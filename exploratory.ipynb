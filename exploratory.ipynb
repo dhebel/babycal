{
 "cells": [
  {
   "attachments": {},
   "cell_type": "markdown",
   "metadata": {},
   "source": [
    "# Librerias 📚"
   ]
  },
  {
   "cell_type": "code",
   "execution_count": 2,
   "metadata": {},
   "outputs": [
    {
     "name": "stderr",
     "output_type": "stream",
     "text": [
      "2023-05-19 18:16:49.719924: I tensorflow/core/platform/cpu_feature_guard.cc:182] This TensorFlow binary is optimized to use available CPU instructions in performance-critical operations.\n",
      "To enable the following instructions: SSE4.1 SSE4.2 AVX, in other operations, rebuild TensorFlow with the appropriate compiler flags.\n"
     ]
    }
   ],
   "source": [
    "import numpy as np\n",
    "from math import ceil\n",
    "import matplotlib.pyplot as plt\n",
    "import json\n",
    "import pandas as pd\n",
    "import seaborn as sns\n",
    "\n",
    "from tensorflow import keras\n",
    "from tensorflow.keras import models, layers\n",
    "import time"
   ]
  },
  {
   "attachments": {},
   "cell_type": "markdown",
   "metadata": {},
   "source": [
    "# Utils ⚙️"
   ]
  },
  {
   "cell_type": "code",
   "execution_count": 33,
   "metadata": {},
   "outputs": [],
   "source": [
    "# Set all seed.\n",
    "def set_all_seed(seed=0):\n",
    "  \"\"\"Set the same seed for all the libraries that we use.\"\"\"\n",
    "  np.random.seed(seed)\n",
    "\n",
    "# Elegir cualquier semilla y siempre que se pueda utilizarla\n",
    "# random_state = SEED\n",
    "SEED = 1\n",
    "\n",
    "set_all_seed(seed=SEED)\n",
    "\n",
    "# Le asignamos un valor a la semilla para poder seguir un patrón de aleatoreidad.\n",
    "# Esto es útil, ya que al tener una semilla, se pueden replicar los experimentos y obtener los mismos resultados."
   ]
  },
  {
   "attachments": {},
   "cell_type": "markdown",
   "metadata": {},
   "source": [
    "# Code 💻"
   ]
  },
  {
   "cell_type": "code",
   "execution_count": 10,
   "metadata": {},
   "outputs": [
    {
     "name": "stdout",
     "output_type": "stream",
     "text": [
      "cols:  5 rows:  7\n"
     ]
    }
   ],
   "source": [
    "# Functions to determine the output size of rows and columns according to input size and dx & dy.\n",
    "cols = 15\n",
    "rows = 15\n",
    "dx = 0.3\n",
    "dy = 0.3\n",
    "\n",
    "print('cols: ', ceil(2 * ( 2 * (0.050 * cols)/2 ) / dx) , 'rows: ', ceil(2 * ( (2 * 0.050 + (0.050 * (1.732050808 + 1)) * (rows - 1))/2 ) / dy))"
   ]
  },
  {
   "cell_type": "code",
   "execution_count": 11,
   "metadata": {},
   "outputs": [],
   "source": [
    "# Data loading\n",
    "with open('gruid-translator/out/out_bcal_2023-05-19T18:06:54_1-0.json') as f:\n",
    "    data = json.load(f)"
   ]
  },
  {
   "cell_type": "code",
   "execution_count": 12,
   "metadata": {},
   "outputs": [],
   "source": [
    "def reconstruct_matrix(data):\n",
    "    # Declaration of a three-dimensional numpy matrix with two channels (side 1 and side 2) to give to a CNN.\n",
    "    # The matrix will be filled with the energy deposited in each sparse coordinate (same coordinates as in the matrix).\n",
    "    # The first channel is filled with the energy from the hits of the side 1 and the second channel is filled with the energy from hits of the side 2.\n",
    "    \n",
    "    for event, event_data in data.items():\n",
    "        gruid_hits_side_1 = event_data['gruid hits - side 1']\n",
    "        gruid_hits_side_2 = event_data['gruid hits - side 2']\n",
    "        gruid_metadata = event_data['gruid metadata']\n",
    "     \n",
    "    matrix = np.zeros((gruid_metadata['# of rows (y)'], gruid_metadata['# of columns (x)'], 2))\n",
    "\n",
    "    # IMPORTANT: Coordinates are inverted in the matrix because of matrix notation in GRUID.\n",
    "    \n",
    "    # Side 1\n",
    "    for timestamp, timestamp_data in gruid_hits_side_1.items():\n",
    "        for pixel, pixel_data in timestamp_data.items():\n",
    "            x, y = pixel.split(\",\")\n",
    "            matrix[ int(y), int(x), 0 ] = pixel_data['energy deposited']\n",
    "\n",
    "    # Side 2\n",
    "    for timestamp, timestamp_data in gruid_hits_side_2.items():\n",
    "        for pixel, pixel_data in timestamp_data.items():\n",
    "            x, y = pixel.split(\",\")\n",
    "            matrix[ int(y), int(x), 1 ] = pixel_data['energy deposited']\n",
    "        \n",
    "    return matrix"
   ]
  },
  {
   "cell_type": "code",
   "execution_count": 13,
   "metadata": {},
   "outputs": [
    {
     "name": "stdout",
     "output_type": "stream",
     "text": [
      "(7, 5, 2)\n",
      "[[[0.00000e+00 0.00000e+00]\n",
      "  [0.00000e+00 0.00000e+00]\n",
      "  [0.00000e+00 0.00000e+00]\n",
      "  [0.00000e+00 0.00000e+00]\n",
      "  [0.00000e+00 0.00000e+00]]\n",
      "\n",
      " [[0.00000e+00 0.00000e+00]\n",
      "  [0.00000e+00 0.00000e+00]\n",
      "  [0.00000e+00 0.00000e+00]\n",
      "  [0.00000e+00 0.00000e+00]\n",
      "  [0.00000e+00 0.00000e+00]]\n",
      "\n",
      " [[0.00000e+00 0.00000e+00]\n",
      "  [0.00000e+00 0.00000e+00]\n",
      "  [1.85042e-06 1.51277e-04]\n",
      "  [0.00000e+00 5.82220e-05]\n",
      "  [0.00000e+00 0.00000e+00]]\n",
      "\n",
      " [[5.71700e-05 0.00000e+00]\n",
      "  [0.00000e+00 0.00000e+00]\n",
      "  [7.63248e-04 7.01048e-05]\n",
      "  [0.00000e+00 0.00000e+00]\n",
      "  [0.00000e+00 0.00000e+00]]\n",
      "\n",
      " [[0.00000e+00 0.00000e+00]\n",
      "  [0.00000e+00 0.00000e+00]\n",
      "  [5.59196e-05 3.84594e-05]\n",
      "  [0.00000e+00 0.00000e+00]\n",
      "  [0.00000e+00 0.00000e+00]]\n",
      "\n",
      " [[0.00000e+00 0.00000e+00]\n",
      "  [0.00000e+00 0.00000e+00]\n",
      "  [8.76451e-05 2.46668e-05]\n",
      "  [0.00000e+00 0.00000e+00]\n",
      "  [0.00000e+00 0.00000e+00]]\n",
      "\n",
      " [[0.00000e+00 0.00000e+00]\n",
      "  [0.00000e+00 0.00000e+00]\n",
      "  [3.89985e-05 6.16744e-05]\n",
      "  [0.00000e+00 0.00000e+00]\n",
      "  [0.00000e+00 0.00000e+00]]]\n"
     ]
    },
    {
     "data": {
      "image/png": "[encoded data removed]",
      "text/plain": [
       "<Figure size 1000x1000 with 2 Axes>"
      ]
     },
     "metadata": {},
     "output_type": "display_data"
    }
   ],
   "source": [
    "# Print matrix shape\n",
    "np.set_printoptions(precision=5, suppress=False)\n",
    "\n",
    "# Reconstruction of the matrix\n",
    "matrix = reconstruct_matrix(data)\n",
    "\n",
    "# Plotting the matrix\n",
    "print(matrix.shape)\n",
    "print(matrix)\n",
    "\n",
    "# Plotting the matrix\n",
    "fig, axs = plt.subplots(1, 2, figsize=(10, 10))\n",
    "axs[0].imshow(matrix[:, :, 0])\n",
    "axs[0].set_title(\"Side 1\")\n",
    "axs[1].imshow(matrix[:, :, 1])\n",
    "axs[1].set_title(\"Side 2\")\n",
    "plt.show()"
   ]
  },
  {
   "cell_type": "code",
   "execution_count": 88,
   "metadata": {},
   "outputs": [
    {
     "name": "stdout",
     "output_type": "stream",
     "text": [
      "Model: \"sequential\"\n",
      "_________________________________________________________________\n",
      " Layer (type)                Output Shape              Param #   \n",
      "=================================================================\n",
      " conv2d (Conv2D)             (None, 282, 208, 32)      608       \n",
      "                                                                 \n",
      " max_pooling2d (MaxPooling2D  (None, 141, 104, 32)     0         \n",
      " )                                                               \n",
      "                                                                 \n",
      " conv2d_1 (Conv2D)           (None, 139, 102, 64)      18496     \n",
      "                                                                 \n",
      " max_pooling2d_1 (MaxPooling  (None, 69, 51, 64)       0         \n",
      " 2D)                                                             \n",
      "                                                                 \n",
      " flatten (Flatten)           (None, 225216)            0         \n",
      "                                                                 \n",
      " dense (Dense)               (None, 64)                14413888  \n",
      "                                                                 \n",
      " dense_1 (Dense)             (None, 2)                 130       \n",
      "                                                                 \n",
      "=================================================================\n",
      "Total params: 14,433,122\n",
      "Trainable params: 14,433,122\n",
      "Non-trainable params: 0\n",
      "_________________________________________________________________\n"
     ]
    },
    {
     "name": "stderr",
     "output_type": "stream",
     "text": [
      "2023-05-12 05:50:15.005970: I tensorflow/core/common_runtime/process_util.cc:146] Creating new thread pool with default inter op setting: 2. Tune using inter_op_parallelism_threads for best performance.\n"
     ]
    }
   ],
   "source": [
    "# CNN\n",
    "# We will use a CNN to classify the events.\n",
    "# The CNN will have two convolutional layers, two max pooling layers and two dense layers.\n",
    "# The first convolutional layer will have 32 filters and the second convolutional layer will have 64 filters.\n",
    "# The first dense layer will have 64 neurons and the second dense layer will have 2 neurons (one for each class).\n",
    "# The activation function of the first dense layer will be ReLU and the activation function of the second dense layer will be softmax.\n",
    "# The loss function will be categorical crossentropy and the optimizer will be Adam.\n",
    "# The metrics will be accuracy, AUC and F1-score.\n",
    "\n",
    "model = models.Sequential()\n",
    "model.add(layers.Conv2D(32, (3, 3), activation='relu', input_shape=(gruid_metadata['# of rows (y)'], gruid_metadata['# of columns (x)'], 2)))\n",
    "model.add(layers.MaxPooling2D((2, 2)))\n",
    "model.add(layers.Conv2D(64, (3, 3), activation='relu'))\n",
    "model.add(layers.MaxPooling2D((2, 2)))\n",
    "model.add(layers.Flatten())\n",
    "model.add(layers.Dense(64, activation='relu'))\n",
    "model.add(layers.Dense(2, activation='softmax'))\n",
    "\n",
    "model.compile(optimizer='adam',\n",
    "                loss='categorical_crossentropy',\n",
    "                metrics=['accuracy', keras.metrics.AUC(), keras.metrics.Precision(), keras.metrics.Recall(),\n",
    "                         keras.metrics.FalsePositives(), keras.metrics.FalseNegatives(), keras.metrics.TruePositives(),\n",
    "                         keras.metrics.TrueNegatives(), keras.metrics.PrecisionAtRecall(0.5), keras.metrics.RecallAtPrecision(0.5),\n",
    "                         keras.metrics.AUC(curve='PR'), keras.metrics.AUC(curve='ROC'), keras.metrics.PrecisionAtRecall(0.5),\n",
    "                         keras.metrics.RecallAtPrecision(0.5), keras.metrics.AUC(curve='PR'), keras.metrics.AUC(curve='ROC')]\n",
    "                )\n",
    "\n",
    "model.summary()"
   ]
  },
  {
   "attachments": {},
   "cell_type": "markdown",
   "metadata": {},
   "source": [
    "# Notes 📝"
   ]
  },
  {
   "cell_type": "code",
   "execution_count": 14,
   "metadata": {},
   "outputs": [
    {
     "data": {
      "text/html": [
       "<div>\n",
       "<style scoped>\n",
       "    .dataframe tbody tr th:only-of-type {\n",
       "        vertical-align: middle;\n",
       "    }\n",
       "\n",
       "    .dataframe tbody tr th {\n",
       "        vertical-align: top;\n",
       "    }\n",
       "\n",
       "    .dataframe thead th {\n",
       "        text-align: right;\n",
       "    }\n",
       "</style>\n",
       "<table border=\"1\" class=\"dataframe\">\n",
       "  <thead>\n",
       "    <tr style=\"text-align: right;\">\n",
       "      <th></th>\n",
       "      <th># of columns (x)</th>\n",
       "      <th># of rows (y)</th>\n",
       "      <th>dt</th>\n",
       "      <th>dx</th>\n",
       "      <th>dy</th>\n",
       "      <th>pid</th>\n",
       "    </tr>\n",
       "    <tr>\n",
       "      <th>event</th>\n",
       "      <th></th>\n",
       "      <th></th>\n",
       "      <th></th>\n",
       "      <th></th>\n",
       "      <th></th>\n",
       "      <th></th>\n",
       "    </tr>\n",
       "  </thead>\n",
       "  <tbody>\n",
       "    <tr>\n",
       "      <th>bcal_2023-05-19T18:06:54_r15c15.txt event 1</th>\n",
       "      <td>5.0</td>\n",
       "      <td>7.0</td>\n",
       "      <td>5.0</td>\n",
       "      <td>0.3</td>\n",
       "      <td>0.3</td>\n",
       "      <td>13.0</td>\n",
       "    </tr>\n",
       "  </tbody>\n",
       "</table>\n",
       "</div>"
      ],
      "text/plain": [
       "                                             # of columns (x)  # of rows (y)  \\\n",
       "event                                                                          \n",
       "bcal_2023-05-19T18:06:54_r15c15.txt event 1               5.0            7.0   \n",
       "\n",
       "                                              dt   dx   dy   pid  \n",
       "event                                                             \n",
       "bcal_2023-05-19T18:06:54_r15c15.txt event 1  5.0  0.3  0.3  13.0  "
      ]
     },
     "execution_count": 14,
     "metadata": {},
     "output_type": "execute_result"
    }
   ],
   "source": [
    "# Generamos un dataframe con los metadatos de los eventos.\n",
    "df_metadata = pd.DataFrame.from_dict(data, orient='index')\n",
    "df_metadata = df_metadata['gruid metadata'].apply(pd.Series)\n",
    "df_metadata.index.name = 'event'\n",
    "df_metadata\n"
   ]
  },
  {
   "cell_type": "code",
   "execution_count": 15,
   "metadata": {},
   "outputs": [],
   "source": [
    "results = []\n",
    "for event, event_data in data.items():\n",
    "    gruid_hits_side_1 = event_data['gruid hits - side 1']\n",
    "    gruid_hits_side_2 = event_data['gruid hits - side 2']\n",
    "    gruid_metadata = event_data['gruid metadata']\n",
    "    run, event_n = event.split(\"event\")\n",
    "    \n",
    "    for channel, channel_data in gruid_hits_side_1.items():\n",
    "        for pixel, pixel_data in channel_data.items():\n",
    "            results.append({\n",
    "                'run': run,\n",
    "                'event': int(event_n),\n",
    "                'channel': channel,\n",
    "                'x': pixel[0],\n",
    "                'y': pixel[2],\n",
    "                'side': 1,\n",
    "                'num_hits': pixel_data['# of hits'],\n",
    "                'energy_deposited': pixel_data['energy deposited'],\n",
    "                'particle_id': gruid_metadata['pid']\n",
    "            })\n",
    "            \n",
    "    for channel, channel_data in gruid_hits_side_2.items():\n",
    "        for pixel, pixel_data in channel_data.items():\n",
    "            results.append({\n",
    "                'run': run,\n",
    "                'event': int(event_n),\n",
    "                'channel': channel,\n",
    "                'x': pixel[0],\n",
    "                'y': pixel[2],\n",
    "                'side': 2,\n",
    "                'num_hits': pixel_data['# of hits'],\n",
    "                'energy_deposited': pixel_data['energy deposited'],\n",
    "                'particle_id': gruid_metadata['pid']\n",
    "            })\n",
    "            \n",
    "df = pd.DataFrame(results)\n"
   ]
  },
  {
   "cell_type": "code",
   "execution_count": 16,
   "metadata": {},
   "outputs": [
    {
     "data": {
      "text/html": [
       "<div>\n",
       "<style scoped>\n",
       "    .dataframe tbody tr th:only-of-type {\n",
       "        vertical-align: middle;\n",
       "    }\n",
       "\n",
       "    .dataframe tbody tr th {\n",
       "        vertical-align: top;\n",
       "    }\n",
       "\n",
       "    .dataframe thead th {\n",
       "        text-align: right;\n",
       "    }\n",
       "</style>\n",
       "<table border=\"1\" class=\"dataframe\">\n",
       "  <thead>\n",
       "    <tr style=\"text-align: right;\">\n",
       "      <th></th>\n",
       "      <th>run</th>\n",
       "      <th>event</th>\n",
       "      <th>channel</th>\n",
       "      <th>x</th>\n",
       "      <th>y</th>\n",
       "      <th>side</th>\n",
       "      <th>num_hits</th>\n",
       "      <th>energy_deposited</th>\n",
       "      <th>particle_id</th>\n",
       "    </tr>\n",
       "  </thead>\n",
       "  <tbody>\n",
       "    <tr>\n",
       "      <th>0</th>\n",
       "      <td>bcal_2023-05-19T18:06:54_r15c15.txt</td>\n",
       "      <td>1</td>\n",
       "      <td>0.0</td>\n",
       "      <td>0</td>\n",
       "      <td>3</td>\n",
       "      <td>1</td>\n",
       "      <td>13</td>\n",
       "      <td>0.000057</td>\n",
       "      <td>13</td>\n",
       "    </tr>\n",
       "    <tr>\n",
       "      <th>1</th>\n",
       "      <td>bcal_2023-05-19T18:06:54_r15c15.txt</td>\n",
       "      <td>1</td>\n",
       "      <td>0.0</td>\n",
       "      <td>2</td>\n",
       "      <td>2</td>\n",
       "      <td>1</td>\n",
       "      <td>1</td>\n",
       "      <td>0.000002</td>\n",
       "      <td>13</td>\n",
       "    </tr>\n",
       "    <tr>\n",
       "      <th>2</th>\n",
       "      <td>bcal_2023-05-19T18:06:54_r15c15.txt</td>\n",
       "      <td>1</td>\n",
       "      <td>0.0</td>\n",
       "      <td>2</td>\n",
       "      <td>3</td>\n",
       "      <td>1</td>\n",
       "      <td>144</td>\n",
       "      <td>0.000763</td>\n",
       "      <td>13</td>\n",
       "    </tr>\n",
       "    <tr>\n",
       "      <th>3</th>\n",
       "      <td>bcal_2023-05-19T18:06:54_r15c15.txt</td>\n",
       "      <td>1</td>\n",
       "      <td>0.0</td>\n",
       "      <td>2</td>\n",
       "      <td>4</td>\n",
       "      <td>1</td>\n",
       "      <td>12</td>\n",
       "      <td>0.000056</td>\n",
       "      <td>13</td>\n",
       "    </tr>\n",
       "    <tr>\n",
       "      <th>4</th>\n",
       "      <td>bcal_2023-05-19T18:06:54_r15c15.txt</td>\n",
       "      <td>1</td>\n",
       "      <td>0.0</td>\n",
       "      <td>2</td>\n",
       "      <td>5</td>\n",
       "      <td>1</td>\n",
       "      <td>14</td>\n",
       "      <td>0.000088</td>\n",
       "      <td>13</td>\n",
       "    </tr>\n",
       "    <tr>\n",
       "      <th>5</th>\n",
       "      <td>bcal_2023-05-19T18:06:54_r15c15.txt</td>\n",
       "      <td>1</td>\n",
       "      <td>0.0</td>\n",
       "      <td>2</td>\n",
       "      <td>6</td>\n",
       "      <td>1</td>\n",
       "      <td>6</td>\n",
       "      <td>0.000039</td>\n",
       "      <td>13</td>\n",
       "    </tr>\n",
       "    <tr>\n",
       "      <th>6</th>\n",
       "      <td>bcal_2023-05-19T18:06:54_r15c15.txt</td>\n",
       "      <td>1</td>\n",
       "      <td>0.0</td>\n",
       "      <td>2</td>\n",
       "      <td>2</td>\n",
       "      <td>2</td>\n",
       "      <td>26</td>\n",
       "      <td>0.000151</td>\n",
       "      <td>13</td>\n",
       "    </tr>\n",
       "    <tr>\n",
       "      <th>7</th>\n",
       "      <td>bcal_2023-05-19T18:06:54_r15c15.txt</td>\n",
       "      <td>1</td>\n",
       "      <td>0.0</td>\n",
       "      <td>2</td>\n",
       "      <td>3</td>\n",
       "      <td>2</td>\n",
       "      <td>11</td>\n",
       "      <td>0.000070</td>\n",
       "      <td>13</td>\n",
       "    </tr>\n",
       "    <tr>\n",
       "      <th>8</th>\n",
       "      <td>bcal_2023-05-19T18:06:54_r15c15.txt</td>\n",
       "      <td>1</td>\n",
       "      <td>0.0</td>\n",
       "      <td>2</td>\n",
       "      <td>4</td>\n",
       "      <td>2</td>\n",
       "      <td>7</td>\n",
       "      <td>0.000038</td>\n",
       "      <td>13</td>\n",
       "    </tr>\n",
       "    <tr>\n",
       "      <th>9</th>\n",
       "      <td>bcal_2023-05-19T18:06:54_r15c15.txt</td>\n",
       "      <td>1</td>\n",
       "      <td>0.0</td>\n",
       "      <td>2</td>\n",
       "      <td>5</td>\n",
       "      <td>2</td>\n",
       "      <td>7</td>\n",
       "      <td>0.000025</td>\n",
       "      <td>13</td>\n",
       "    </tr>\n",
       "    <tr>\n",
       "      <th>10</th>\n",
       "      <td>bcal_2023-05-19T18:06:54_r15c15.txt</td>\n",
       "      <td>1</td>\n",
       "      <td>0.0</td>\n",
       "      <td>2</td>\n",
       "      <td>6</td>\n",
       "      <td>2</td>\n",
       "      <td>9</td>\n",
       "      <td>0.000062</td>\n",
       "      <td>13</td>\n",
       "    </tr>\n",
       "    <tr>\n",
       "      <th>11</th>\n",
       "      <td>bcal_2023-05-19T18:06:54_r15c15.txt</td>\n",
       "      <td>1</td>\n",
       "      <td>0.0</td>\n",
       "      <td>3</td>\n",
       "      <td>2</td>\n",
       "      <td>2</td>\n",
       "      <td>13</td>\n",
       "      <td>0.000058</td>\n",
       "      <td>13</td>\n",
       "    </tr>\n",
       "  </tbody>\n",
       "</table>\n",
       "</div>"
      ],
      "text/plain": [
       "                                     run  event channel  x  y  side  num_hits  \\\n",
       "0   bcal_2023-05-19T18:06:54_r15c15.txt       1     0.0  0  3     1        13   \n",
       "1   bcal_2023-05-19T18:06:54_r15c15.txt       1     0.0  2  2     1         1   \n",
       "2   bcal_2023-05-19T18:06:54_r15c15.txt       1     0.0  2  3     1       144   \n",
       "3   bcal_2023-05-19T18:06:54_r15c15.txt       1     0.0  2  4     1        12   \n",
       "4   bcal_2023-05-19T18:06:54_r15c15.txt       1     0.0  2  5     1        14   \n",
       "5   bcal_2023-05-19T18:06:54_r15c15.txt       1     0.0  2  6     1         6   \n",
       "6   bcal_2023-05-19T18:06:54_r15c15.txt       1     0.0  2  2     2        26   \n",
       "7   bcal_2023-05-19T18:06:54_r15c15.txt       1     0.0  2  3     2        11   \n",
       "8   bcal_2023-05-19T18:06:54_r15c15.txt       1     0.0  2  4     2         7   \n",
       "9   bcal_2023-05-19T18:06:54_r15c15.txt       1     0.0  2  5     2         7   \n",
       "10  bcal_2023-05-19T18:06:54_r15c15.txt       1     0.0  2  6     2         9   \n",
       "11  bcal_2023-05-19T18:06:54_r15c15.txt       1     0.0  3  2     2        13   \n",
       "\n",
       "    energy_deposited  particle_id  \n",
       "0           0.000057           13  \n",
       "1           0.000002           13  \n",
       "2           0.000763           13  \n",
       "3           0.000056           13  \n",
       "4           0.000088           13  \n",
       "5           0.000039           13  \n",
       "6           0.000151           13  \n",
       "7           0.000070           13  \n",
       "8           0.000038           13  \n",
       "9           0.000025           13  \n",
       "10          0.000062           13  \n",
       "11          0.000058           13  "
      ]
     },
     "execution_count": 16,
     "metadata": {},
     "output_type": "execute_result"
    }
   ],
   "source": [
    "df"
   ]
  },
  {
   "cell_type": "code",
   "execution_count": 17,
   "metadata": {},
   "outputs": [
    {
     "name": "stdout",
     "output_type": "stream",
     "text": [
      "(12, 9)\n",
      "\n",
      "       event       side    num_hits  energy_deposited  particle_id\n",
      "count   12.0  12.000000   12.000000         12.000000         12.0\n",
      "mean     1.0   1.500000   21.916667          0.000117         13.0\n",
      "std      0.0   0.522233   38.920568          0.000207          0.0\n",
      "min      1.0   1.000000    1.000000          0.000002         13.0\n",
      "25%      1.0   1.000000    7.000000          0.000039         13.0\n",
      "50%      1.0   1.500000   11.500000          0.000058         13.0\n",
      "75%      1.0   2.000000   13.250000          0.000074         13.0\n",
      "max      1.0   2.000000  144.000000          0.000763         13.0\n",
      "\n",
      "<class 'pandas.core.frame.DataFrame'>\n",
      "RangeIndex: 12 entries, 0 to 11\n",
      "Data columns (total 9 columns):\n",
      " #   Column            Non-Null Count  Dtype  \n",
      "---  ------            --------------  -----  \n",
      " 0   run               12 non-null     object \n",
      " 1   event             12 non-null     int64  \n",
      " 2   channel           12 non-null     object \n",
      " 3   x                 12 non-null     object \n",
      " 4   y                 12 non-null     object \n",
      " 5   side              12 non-null     int64  \n",
      " 6   num_hits          12 non-null     int64  \n",
      " 7   energy_deposited  12 non-null     float64\n",
      " 8   particle_id       12 non-null     int64  \n",
      "dtypes: float64(1), int64(4), object(4)\n",
      "memory usage: 992.0+ bytes\n",
      "None\n",
      "\n"
     ]
    }
   ],
   "source": [
    "# Check the dimensions of the dataframe\n",
    "print(df.shape)\n",
    "print(\"\")\n",
    "# Get summary statistics for numeric columns\n",
    "print(df.describe())\n",
    "print(\"\")\n",
    "# Check the data types of each column and the number of non-null values\n",
    "print(df.info())\n",
    "print(\"\")"
   ]
  },
  {
   "cell_type": "code",
   "execution_count": 21,
   "metadata": {},
   "outputs": [],
   "source": [
    "# create separate dataframes for each event and side\n",
    "df_e1s1 = df[(df['event'] == 1) & (df['side'] == 1)]\n",
    "df_e1s2 = df[(df['event'] == 1) & (df['side'] == 2)]\n",
    "df_e2s1 = df[(df['event'] == 2) & (df['side'] == 1)]\n",
    "df_e2s2 = df[(df['event'] == 2) & (df['side'] == 2)]"
   ]
  },
  {
   "cell_type": "code",
   "execution_count": 22,
   "metadata": {},
   "outputs": [],
   "source": [
    "# create separate dataframes for each event\n",
    "df_e1 = df[df['event'] == 1]\n",
    "df_e2 = df[df['event'] == 2]\n",
    "df_e3 = df[df['event'] == 3]\n",
    "df_e4 = df[df['event'] == 4]\n",
    "df_e5 = df[df['event'] == 5]"
   ]
  },
  {
   "cell_type": "code",
   "execution_count": 23,
   "metadata": {},
   "outputs": [
    {
     "data": {
      "image/png": "[encoded data removed]",
      "text/plain": [
       "<Figure size 900x510 with 2 Axes>"
      ]
     },
     "metadata": {},
     "output_type": "display_data"
    }
   ],
   "source": [
    "heatmap_e1s1 = pd.pivot_table(df_e1s1, values=\"energy_deposited\", index=\"y\", columns=\"x\", fill_value=0)\n",
    "heatmap_e1s2 = pd.pivot_table(df_e1s2, values=\"energy_deposited\", index=\"y\", columns=\"x\", fill_value=0)\n",
    "\n",
    "fig, axs = plt.subplots(ncols=2)\n",
    "fig.suptitle('Heatmap of Energy Deposited (Event 1)')\n",
    "\n",
    "sns.heatmap(heatmap_e1s1, ax=axs[0], cmap=\"YlGnBu\", annot=True, cbar=False)\n",
    "fig.set_size_inches(9, 5.1)\n",
    "tile = axs[0].set_title(\"Side 1\")\n",
    "tile.set_position([.5, 1.05])\n",
    "\n",
    "sns.heatmap(heatmap_e1s2, ax=axs[1], cmap=\"YlGnBu\", annot=True, cbar=False)\n",
    "fig.set_size_inches(9, 5.1)\n",
    "tile = axs[1].set_title(\"Side 2\")\n",
    "tile.set_position([.5, 1.05])\n"
   ]
  },
  {
   "cell_type": "code",
   "execution_count": 24,
   "metadata": {},
   "outputs": [
    {
     "ename": "ValueError",
     "evalue": "zero-size array to reduction operation fmin which has no identity",
     "output_type": "error",
     "traceback": [
      "\u001b[0;31m---------------------------------------------------------------------------\u001b[0m",
      "\u001b[0;31mValueError\u001b[0m                                Traceback (most recent call last)",
      "Cell \u001b[0;32mIn[24], line 7\u001b[0m\n\u001b[1;32m      4\u001b[0m fig, axs \u001b[39m=\u001b[39m plt\u001b[39m.\u001b[39msubplots(ncols\u001b[39m=\u001b[39m\u001b[39m2\u001b[39m)\n\u001b[1;32m      5\u001b[0m fig\u001b[39m.\u001b[39msuptitle(\u001b[39m'\u001b[39m\u001b[39mHeatmap of Energy Deposited (Event 2)\u001b[39m\u001b[39m'\u001b[39m)\n\u001b[0;32m----> 7\u001b[0m sns\u001b[39m.\u001b[39;49mheatmap(heatmap_e2s1, ax\u001b[39m=\u001b[39;49maxs[\u001b[39m0\u001b[39;49m], cmap\u001b[39m=\u001b[39;49m\u001b[39m\"\u001b[39;49m\u001b[39mYlGnBu\u001b[39;49m\u001b[39m\"\u001b[39;49m, annot\u001b[39m=\u001b[39;49m\u001b[39mTrue\u001b[39;49;00m, cbar\u001b[39m=\u001b[39;49m\u001b[39mFalse\u001b[39;49;00m)\n\u001b[1;32m      8\u001b[0m fig\u001b[39m.\u001b[39mset_size_inches(\u001b[39m9\u001b[39m, \u001b[39m5.1\u001b[39m)\n\u001b[1;32m      9\u001b[0m tile \u001b[39m=\u001b[39m axs[\u001b[39m0\u001b[39m]\u001b[39m.\u001b[39mset_title(\u001b[39m\"\u001b[39m\u001b[39mSide 1\u001b[39m\u001b[39m\"\u001b[39m)\n",
      "File \u001b[0;32m~/.conda/envs/babycal/lib/python3.9/site-packages/seaborn/matrix.py:446\u001b[0m, in \u001b[0;36mheatmap\u001b[0;34m(data, vmin, vmax, cmap, center, robust, annot, fmt, annot_kws, linewidths, linecolor, cbar, cbar_kws, cbar_ax, square, xticklabels, yticklabels, mask, ax, **kwargs)\u001b[0m\n\u001b[1;32m    365\u001b[0m \u001b[39m\u001b[39m\u001b[39m\"\"\"Plot rectangular data as a color-encoded matrix.\u001b[39;00m\n\u001b[1;32m    366\u001b[0m \n\u001b[1;32m    367\u001b[0m \u001b[39mThis is an Axes-level function and will draw the heatmap into the\u001b[39;00m\n\u001b[0;32m   (...)\u001b[0m\n\u001b[1;32m    443\u001b[0m \n\u001b[1;32m    444\u001b[0m \u001b[39m\"\"\"\u001b[39;00m\n\u001b[1;32m    445\u001b[0m \u001b[39m# Initialize the plotter object\u001b[39;00m\n\u001b[0;32m--> 446\u001b[0m plotter \u001b[39m=\u001b[39m _HeatMapper(data, vmin, vmax, cmap, center, robust, annot, fmt,\n\u001b[1;32m    447\u001b[0m                       annot_kws, cbar, cbar_kws, xticklabels,\n\u001b[1;32m    448\u001b[0m                       yticklabels, mask)\n\u001b[1;32m    450\u001b[0m \u001b[39m# Add the pcolormesh kwargs here\u001b[39;00m\n\u001b[1;32m    451\u001b[0m kwargs[\u001b[39m\"\u001b[39m\u001b[39mlinewidths\u001b[39m\u001b[39m\"\u001b[39m] \u001b[39m=\u001b[39m linewidths\n",
      "File \u001b[0;32m~/.conda/envs/babycal/lib/python3.9/site-packages/seaborn/matrix.py:163\u001b[0m, in \u001b[0;36m_HeatMapper.__init__\u001b[0;34m(self, data, vmin, vmax, cmap, center, robust, annot, fmt, annot_kws, cbar, cbar_kws, xticklabels, yticklabels, mask)\u001b[0m\n\u001b[1;32m    160\u001b[0m \u001b[39mself\u001b[39m\u001b[39m.\u001b[39mylabel \u001b[39m=\u001b[39m ylabel \u001b[39mif\u001b[39;00m ylabel \u001b[39mis\u001b[39;00m \u001b[39mnot\u001b[39;00m \u001b[39mNone\u001b[39;00m \u001b[39melse\u001b[39;00m \u001b[39m\"\u001b[39m\u001b[39m\"\u001b[39m\n\u001b[1;32m    162\u001b[0m \u001b[39m# Determine good default values for the colormapping\u001b[39;00m\n\u001b[0;32m--> 163\u001b[0m \u001b[39mself\u001b[39;49m\u001b[39m.\u001b[39;49m_determine_cmap_params(plot_data, vmin, vmax,\n\u001b[1;32m    164\u001b[0m                             cmap, center, robust)\n\u001b[1;32m    166\u001b[0m \u001b[39m# Sort out the annotations\u001b[39;00m\n\u001b[1;32m    167\u001b[0m \u001b[39mif\u001b[39;00m annot \u001b[39mis\u001b[39;00m \u001b[39mNone\u001b[39;00m \u001b[39mor\u001b[39;00m annot \u001b[39mis\u001b[39;00m \u001b[39mFalse\u001b[39;00m:\n",
      "File \u001b[0;32m~/.conda/envs/babycal/lib/python3.9/site-packages/seaborn/matrix.py:202\u001b[0m, in \u001b[0;36m_HeatMapper._determine_cmap_params\u001b[0;34m(self, plot_data, vmin, vmax, cmap, center, robust)\u001b[0m\n\u001b[1;32m    200\u001b[0m         vmin \u001b[39m=\u001b[39m np\u001b[39m.\u001b[39mnanpercentile(calc_data, \u001b[39m2\u001b[39m)\n\u001b[1;32m    201\u001b[0m     \u001b[39melse\u001b[39;00m:\n\u001b[0;32m--> 202\u001b[0m         vmin \u001b[39m=\u001b[39m np\u001b[39m.\u001b[39;49mnanmin(calc_data)\n\u001b[1;32m    203\u001b[0m \u001b[39mif\u001b[39;00m vmax \u001b[39mis\u001b[39;00m \u001b[39mNone\u001b[39;00m:\n\u001b[1;32m    204\u001b[0m     \u001b[39mif\u001b[39;00m robust:\n",
      "File \u001b[0;32m<__array_function__ internals>:180\u001b[0m, in \u001b[0;36mnanmin\u001b[0;34m(*args, **kwargs)\u001b[0m\n",
      "File \u001b[0;32m~/.conda/envs/babycal/lib/python3.9/site-packages/numpy/lib/nanfunctions.py:343\u001b[0m, in \u001b[0;36mnanmin\u001b[0;34m(a, axis, out, keepdims, initial, where)\u001b[0m\n\u001b[1;32m    338\u001b[0m     kwargs[\u001b[39m'\u001b[39m\u001b[39mwhere\u001b[39m\u001b[39m'\u001b[39m] \u001b[39m=\u001b[39m where\n\u001b[1;32m    340\u001b[0m \u001b[39mif\u001b[39;00m \u001b[39mtype\u001b[39m(a) \u001b[39mis\u001b[39;00m np\u001b[39m.\u001b[39mndarray \u001b[39mand\u001b[39;00m a\u001b[39m.\u001b[39mdtype \u001b[39m!=\u001b[39m np\u001b[39m.\u001b[39mobject_:\n\u001b[1;32m    341\u001b[0m     \u001b[39m# Fast, but not safe for subclasses of ndarray, or object arrays,\u001b[39;00m\n\u001b[1;32m    342\u001b[0m     \u001b[39m# which do not implement isnan (gh-9009), or fmin correctly (gh-8975)\u001b[39;00m\n\u001b[0;32m--> 343\u001b[0m     res \u001b[39m=\u001b[39m np\u001b[39m.\u001b[39;49mfmin\u001b[39m.\u001b[39;49mreduce(a, axis\u001b[39m=\u001b[39;49maxis, out\u001b[39m=\u001b[39;49mout, \u001b[39m*\u001b[39;49m\u001b[39m*\u001b[39;49mkwargs)\n\u001b[1;32m    344\u001b[0m     \u001b[39mif\u001b[39;00m np\u001b[39m.\u001b[39misnan(res)\u001b[39m.\u001b[39many():\n\u001b[1;32m    345\u001b[0m         warnings\u001b[39m.\u001b[39mwarn(\u001b[39m\"\u001b[39m\u001b[39mAll-NaN slice encountered\u001b[39m\u001b[39m\"\u001b[39m, \u001b[39mRuntimeWarning\u001b[39;00m,\n\u001b[1;32m    346\u001b[0m                       stacklevel\u001b[39m=\u001b[39m\u001b[39m3\u001b[39m)\n",
      "\u001b[0;31mValueError\u001b[0m: zero-size array to reduction operation fmin which has no identity"
     ]
    },
    {
     "data": {
      "image/png": "[encoded data removed]",
      "text/plain": [
       "<Figure size 640x480 with 2 Axes>"
      ]
     },
     "metadata": {},
     "output_type": "display_data"
    }
   ],
   "source": [
    "heatmap_e2s1 = pd.pivot_table(df_e2s1, values=\"energy_deposited\", index=\"y\", columns=\"x\", fill_value=0)\n",
    "heatmap_e2s2 = pd.pivot_table(df_e2s2, values=\"energy_deposited\", index=\"y\", columns=\"x\", fill_value=0)\n",
    "\n",
    "fig, axs = plt.subplots(ncols=2)\n",
    "fig.suptitle('Heatmap of Energy Deposited (Event 2)')\n",
    "\n",
    "sns.heatmap(heatmap_e2s1, ax=axs[0], cmap=\"YlGnBu\", annot=True, cbar=False)\n",
    "fig.set_size_inches(9, 5.1)\n",
    "tile = axs[0].set_title(\"Side 1\")\n",
    "tile.set_position([.5, 1.05])\n",
    "\n",
    "sns.heatmap(heatmap_e2s2, ax=axs[1], cmap=\"YlGnBu\", annot=True, cbar=False)\n",
    "fig.set_size_inches(9, 5.1)\n",
    "tile = axs[1].set_title(\"Side 2\")\n",
    "tile.set_position([.5, 1.05])\n"
   ]
  },
  {
   "cell_type": "code",
   "execution_count": 17,
   "metadata": {},
   "outputs": [],
   "source": [
    "#heatmap_e1s1 = pd.pivot_table(df_e1s1, values=\"energy_deposited\", index=\"y\", columns=\"x\", fill_value=0)\n",
    "#sns.heatmap(heatmap_e1s1, cmap=\"YlGnBu\", annot=True)\n",
    "#plt.title('Heatmap of Energy Deposited (Event 1) - Side 1')\n",
    "#plt.show()\n",
    "\n",
    "#heatmap_e1s2 = pd.pivot_table(df_e1s2, values=\"energy_deposited\", index=\"y\", columns=\"x\", fill_value=0)\n",
    "#sns.heatmap(heatmap_e1s2, cmap=\"YlGnBu\", annot=True)\n",
    "#plt.title('Heatmap of Energy Deposited (Event 1) - Side 2')\n",
    "\n",
    "#heatmap_e2s1 = pd.pivot_table(df_e2s1, values=\"energy_deposited\", index=\"y\", columns=\"x\", fill_value=0)\n",
    "#sns.heatmap(heatmap_e2s1, cmap=\"YlGnBu\", annot=True)\n",
    "#plt.title('Heatmap of Energy Deposited (Event 2) - Side 1')\n",
    "\n",
    "#heatmap_e2s2 = pd.pivot_table(df_e2s2, values=\"energy_deposited\", index=\"y\", columns=\"x\", fill_value=0)\n",
    "#sns.heatmap(heatmap_e2s2, cmap=\"YlGnBu\", annot=True)\n",
    "#plt.title('Heatmap of Energy Deposited (Event 2) - Side 2')"
   ]
  },
  {
   "cell_type": "code",
   "execution_count": 19,
   "metadata": {},
   "outputs": [
    {
     "name": "stdout",
     "output_type": "stream",
     "text": [
      "[[1.05585e-05 4.00372e-07]\n",
      " [1.98322e-05 1.34814e-05]\n",
      " [1.70444e-05 2.02319e-05]\n",
      " [4.97806e-06 5.15432e-06]\n",
      " [0.00000e+00 4.51526e-06]\n",
      " [0.00000e+00 5.89259e-06]]\n",
      "\n",
      "[[4.91028e-07 2.57451e-05]\n",
      " [2.21679e-06 7.27175e-07]\n",
      " [0.00000e+00 2.60582e-05]\n",
      " [0.00000e+00 6.84840e-05]\n",
      " [0.00000e+00 7.77505e-06]]\n",
      "\n",
      "[[2.44484e-06]\n",
      " [2.22461e-05]]\n",
      "\n",
      "[[2.63286e-05 0.00000e+00]\n",
      " [8.58213e-06 2.69036e-06]\n",
      " [0.00000e+00 1.92749e-05]\n",
      " [0.00000e+00 2.24529e-05]\n",
      " [0.00000e+00 1.86784e-05]\n",
      " [0.00000e+00 7.88103e-06]]\n"
     ]
    }
   ],
   "source": [
    "# Print the numpy arrays in a more readable format with high precision and with scientific notation\n",
    "np.set_printoptions(precision=5, suppress=False)\n",
    "print(matrix_e1s1)\n",
    "print(\"\")\n",
    "print(matrix_e1s2)\n",
    "print(\"\")\n",
    "print(matrix_e2s1)\n",
    "print(\"\")\n",
    "print(matrix_e2s2)\n"
   ]
  },
  {
   "cell_type": "code",
   "execution_count": 21,
   "metadata": {},
   "outputs": [
    {
     "data": {
      "text/plain": [
       "<Axes: ylabel='Density'>"
      ]
     },
     "execution_count": 21,
     "metadata": {},
     "output_type": "execute_result"
    },
    {
     "data": {
      "image/png": "[encoded data removed]",
      "text/plain": [
       "<Figure size 640x480 with 1 Axes>"
      ]
     },
     "metadata": {},
     "output_type": "display_data"
    }
   ],
   "source": [
    "# Create histograms or density plots to visualize the distribution of numeric columns\n",
    "#df['num_hits'].hist()\n",
    "df['energy_deposited'].plot.density()"
   ]
  },
  {
   "cell_type": "code",
   "execution_count": null,
   "metadata": {},
   "outputs": [
    {
     "data": {
      "text/plain": [
       "'\\ndata = open(\"gruid-translator/out/out__1-0.json\", \"r\").read()\\n\\n# Initialize empty lists to store the data\\nmeans_side1 = []\\nstds_side1 = []\\nmeans_side2 = []\\nstds_side2 = []\\n\\n# Loop through each event and calculate the mean and standard deviation of energy deposited\\nfor event in data:\\n    # Side 1\\n    energy_side1 = []\\n    for k, v in data[int(event)][\"gruid hits - side 1\"][\"0.0\"].items():\\n        energy_side1.extend([hit[\"energy deposited\"] for hit in v.values()])\\n    means_side1.append(np.mean(energy_side1))\\n    stds_side1.append(np.std(energy_side1))\\n    \\n    # Side 2\\n    energy_side2 = []\\n    for k, v in data[int(event)][\"gruid hits - side 2\"][\"0.0\"].items():\\n        energy_side2.extend([hit[\"energy deposited\"] for hit in v.values()])\\n    means_side2.append(np.mean(energy_side2))\\n    stds_side2.append(np.std(energy_side2))\\n\\n# Plot the results\\nfig, axs = plt.subplots(2, 2, figsize=(10, 8))\\naxs[0, 0].bar(range(len(data)), means_side1, yerr=stds_side1)\\naxs[0, 0].set_xticks(range(len(data)))\\naxs[0, 0].set_xticklabels(list(data.keys()))\\naxs[0, 0].set_ylabel(\"Mean energy deposited (Side 1)\")\\naxs[0, 1].bar(range(len(data)), means_side2, yerr=stds_side2)\\naxs[0, 1].set_xticks(range(len(data)))\\naxs[0, 1].set_xticklabels(list(data.keys()))\\naxs[0, 1].set_ylabel(\"Mean energy deposited (Side 2)\")\\naxs[1, 0].hist(energy_side1, bins=20)\\naxs[1, 0].set_xlabel(\"Energy deposited (Side 1)\")\\naxs[1, 0].set_ylabel(\"Frequency\")\\naxs[1, 1].hist(energy_side2, bins=20)\\naxs[1, 1].set_xlabel(\"Energy deposited (Side 2)\")\\naxs[1, 1].set_ylabel(\"Frequency\")\\nplt.tight_layout()\\nplt.show()\\n\\n# IDEA \\nfor event in data:\\n    total_hits = 0\\n    total_energy = 0\\n    for side in data[event]:\\n        for pos in data[event][side]:\\n            print(pos)\\n            for hits in data[event][side][pos]:\\n                total_hits += data[event][side][pos][hits][\\'# of hits\\']\\n                total_energy += data[event][side][pos][hits][\\'energy deposited\\']\\n    print(f\"Event: {event}\")\\n    print(f\"Total number of hits: {total_hits}\")\\n    print(f\"Total energy deposited: {total_energy}\\n\")\\n'"
      ]
     },
     "execution_count": 33,
     "metadata": {},
     "output_type": "execute_result"
    }
   ],
   "source": [
    "#IDEA\n",
    "\n",
    "'''\n",
    "data = open(\"gruid-translator/out/out__1-0.json\", \"r\").read()\n",
    "\n",
    "# Initialize empty lists to store the data\n",
    "means_side1 = []\n",
    "stds_side1 = []\n",
    "means_side2 = []\n",
    "stds_side2 = []\n",
    "\n",
    "# Loop through each event and calculate the mean and standard deviation of energy deposited\n",
    "for event in data:\n",
    "    # Side 1\n",
    "    energy_side1 = []\n",
    "    for k, v in data[int(event)][\"gruid hits - side 1\"][\"0.0\"].items():\n",
    "        energy_side1.extend([hit[\"energy deposited\"] for hit in v.values()])\n",
    "    means_side1.append(np.mean(energy_side1))\n",
    "    stds_side1.append(np.std(energy_side1))\n",
    "    \n",
    "    # Side 2\n",
    "    energy_side2 = []\n",
    "    for k, v in data[int(event)][\"gruid hits - side 2\"][\"0.0\"].items():\n",
    "        energy_side2.extend([hit[\"energy deposited\"] for hit in v.values()])\n",
    "    means_side2.append(np.mean(energy_side2))\n",
    "    stds_side2.append(np.std(energy_side2))\n",
    "\n",
    "# Plot the results\n",
    "fig, axs = plt.subplots(2, 2, figsize=(10, 8))\n",
    "axs[0, 0].bar(range(len(data)), means_side1, yerr=stds_side1)\n",
    "axs[0, 0].set_xticks(range(len(data)))\n",
    "axs[0, 0].set_xticklabels(list(data.keys()))\n",
    "axs[0, 0].set_ylabel(\"Mean energy deposited (Side 1)\")\n",
    "axs[0, 1].bar(range(len(data)), means_side2, yerr=stds_side2)\n",
    "axs[0, 1].set_xticks(range(len(data)))\n",
    "axs[0, 1].set_xticklabels(list(data.keys()))\n",
    "axs[0, 1].set_ylabel(\"Mean energy deposited (Side 2)\")\n",
    "axs[1, 0].hist(energy_side1, bins=20)\n",
    "axs[1, 0].set_xlabel(\"Energy deposited (Side 1)\")\n",
    "axs[1, 0].set_ylabel(\"Frequency\")\n",
    "axs[1, 1].hist(energy_side2, bins=20)\n",
    "axs[1, 1].set_xlabel(\"Energy deposited (Side 2)\")\n",
    "axs[1, 1].set_ylabel(\"Frequency\")\n",
    "plt.tight_layout()\n",
    "plt.show()\n",
    "\n",
    "# IDEA \n",
    "for event in data:\n",
    "    total_hits = 0\n",
    "    total_energy = 0\n",
    "    for side in data[event]:\n",
    "        for pos in data[event][side]:\n",
    "            print(pos)\n",
    "            for hits in data[event][side][pos]:\n",
    "                total_hits += data[event][side][pos][hits]['# of hits']\n",
    "                total_energy += data[event][side][pos][hits]['energy deposited']\n",
    "    print(f\"Event: {event}\")\n",
    "    print(f\"Total number of hits: {total_hits}\")\n",
    "    print(f\"Total energy deposited: {total_energy}\\n\")\n",
    "'''"
   ]
  },
  {
   "cell_type": "code",
   "execution_count": 5,
   "metadata": {},
   "outputs": [
    {
     "name": "stdout",
     "output_type": "stream",
     "text": [
      "1.05\n",
      "1.4160254040000002\n"
     ]
    }
   ],
   "source": [
    "dx_cols = (0.1 * cols)/2.\n",
    "dy_rows = (0.1 + (rows - 1) * (0.05 * 1.732050808 + 0.05))/2.\n",
    "\n",
    "print(dx_cols)\n",
    "print(dy_rows)"
   ]
  },
  {
   "cell_type": "code",
   "execution_count": null,
   "metadata": {},
   "outputs": [],
   "source": []
  }
 ],
 "metadata": {
  "kernelspec": {
   "display_name": "Python 3",
   "language": "python",
   "name": "python3"
  },
  "language_info": {
   "codemirror_mode": {
    "name": "ipython",
    "version": 3
   },
   "file_extension": ".py",
   "mimetype": "text/x-python",
   "name": "python",
   "nbconvert_exporter": "python",
   "pygments_lexer": "ipython3",
   "version": "3.9.16"
  },
  "orig_nbformat": 4
 },
 "nbformat": 4,
 "nbformat_minor": 2
}
