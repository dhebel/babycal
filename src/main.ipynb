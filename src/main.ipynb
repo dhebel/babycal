{
 "cells": [
  {
   "attachments": {},
   "cell_type": "markdown",
   "metadata": {},
   "source": [
    "# Librerias 📚"
   ]
  },
  {
   "cell_type": "code",
   "execution_count": 19,
   "metadata": {},
   "outputs": [],
   "source": [
    "import glob\n",
    "import os\n",
    "import json\n",
    "import numpy as np\n",
    "from sklearn.model_selection import train_test_split\n",
    "from tensorflow import keras\n",
    "\n",
    "# IPNYB\n",
    "import seaborn as sns\n",
    "import matplotlib.pyplot as plt\n",
    "import pandas as pd\n"
   ]
  },
  {
   "attachments": {},
   "cell_type": "markdown",
   "metadata": {},
   "source": [
    "# Obtain files 🗂️"
   ]
  },
  {
   "cell_type": "code",
   "execution_count": 20,
   "metadata": {},
   "outputs": [],
   "source": [
    "files_MUM = glob.glob('translations/mu-/*.json')\n",
    "files_MUP = glob.glob('translations/mu+/*.json')"
   ]
  },
  {
   "attachments": {},
   "cell_type": "markdown",
   "metadata": {},
   "source": [
    "# Code 💻"
   ]
  },
  {
   "attachments": {},
   "cell_type": "markdown",
   "metadata": {},
   "source": [
    "## Building X and y matrices"
   ]
  },
  {
   "cell_type": "code",
   "execution_count": 21,
   "metadata": {},
   "outputs": [],
   "source": [
    "def reconstruct_matrix(data):\n",
    "    # Declaration of a three-dimensional numpy matrix with two channels (side 1 and side 2) to give to a CNN.\n",
    "    # The matrix will be filled with the energy deposited in each sparse coordinate (same coordinates as in the matrix).\n",
    "    # The first channel is filled with the energy from the hits of the side 1 and the second channel is filled with the energy from hits of the side 2.\n",
    "    \n",
    "    for event, event_data in data.items():\n",
    "        gruid_hits_side_1 = event_data['gruid hits - side 1']\n",
    "        gruid_hits_side_2 = event_data['gruid hits - side 2']\n",
    "        gruid_metadata = event_data['gruid metadata']\n",
    "     \n",
    "    matrix = np.zeros((gruid_metadata['# of rows (y)'], gruid_metadata['# of columns (x)'], 2))\n",
    "\n",
    "    # IMPORTANT: Coordinates are inverted in the matrix because of matrix notation in GRUID.\n",
    "    \n",
    "    # Side 1\n",
    "    for timestamp, timestamp_data in gruid_hits_side_1.items():\n",
    "        for pixel, pixel_data in timestamp_data.items():\n",
    "            x, y = pixel.split(\",\")\n",
    "            matrix[ int(y), int(x), 0 ] = pixel_data['energy deposited']\n",
    "\n",
    "    # Side 2\n",
    "    for timestamp, timestamp_data in gruid_hits_side_2.items():\n",
    "        for pixel, pixel_data in timestamp_data.items():\n",
    "            x, y = pixel.split(\",\")\n",
    "            matrix[ int(y), int(x), 1 ] = pixel_data['energy deposited']\n",
    "        \n",
    "    return matrix\n",
    "\n",
    "muon_labels = np.ones(len(files_MUM))\n",
    "antimuon_labels = np.zeros(len(files_MUP))\n",
    "y = np.concatenate((muon_labels, antimuon_labels))\n",
    "\n",
    "X = []\n",
    "for file in files_MUM:\n",
    "        with open(file) as f:\n",
    "                data = json.load(f)\n",
    "        X.append(reconstruct_matrix(data))\n",
    "        \n",
    "for file in files_MUP:\n",
    "        with open(file) as f:\n",
    "                data = json.load(f)\n",
    "        X.append(reconstruct_matrix(data))\n",
    "X = np.array(X)"
   ]
  },
  {
   "attachments": {},
   "cell_type": "markdown",
   "metadata": {},
   "source": [
    "## Reviewing Shapes"
   ]
  },
  {
   "cell_type": "code",
   "execution_count": 22,
   "metadata": {},
   "outputs": [
    {
     "data": {
      "text/plain": [
       "((10167, 7, 5, 2), (10167,))"
      ]
     },
     "execution_count": 22,
     "metadata": {},
     "output_type": "execute_result"
    }
   ],
   "source": [
    "X.shape, y.shape"
   ]
  },
  {
   "attachments": {},
   "cell_type": "markdown",
   "metadata": {},
   "source": [
    "## Splitting the data"
   ]
  },
  {
   "cell_type": "code",
   "execution_count": 23,
   "metadata": {},
   "outputs": [
    {
     "data": {
      "text/plain": [
       "((6506, 7, 5, 2), (1627, 7, 5, 2), (2034, 7, 5, 2), (6506,), (1627,), (2034,))"
      ]
     },
     "execution_count": 23,
     "metadata": {},
     "output_type": "execute_result"
    }
   ],
   "source": [
    "# Splitting the data into training and testing sets\n",
    "# We will use 80% of the data for training and 20% of the data for testing.\n",
    "# We will use the function train_test_split from sklearn.model_selection to split the data.\n",
    "# We will use the parameter stratify to split the data in a stratified way.\n",
    "# We will split the training data into training and validation sets.\n",
    "# We will use 80% of the training data for training and 20% of the training data for validation.\n",
    "\n",
    "X_train, X_test, y_train, y_test = train_test_split(X, y, test_size=0.2, stratify=y)\n",
    "X_train, X_val, y_train, y_val = train_test_split(X_train, y_train, test_size=0.2, stratify=y_train)\n",
    "\n",
    "X_train.shape, X_val.shape, X_test.shape, y_train.shape, y_val.shape, y_test.shape"
   ]
  },
  {
   "cell_type": "code",
   "execution_count": 24,
   "metadata": {},
   "outputs": [
    {
     "name": "stdout",
     "output_type": "stream",
     "text": [
      "[1. 1. 1. ... 1. 1. 0.]\n"
     ]
    }
   ],
   "source": [
    "# Show target vector (1 = muon, 0 = antimuon)\n",
    "print(y_train)"
   ]
  },
  {
   "attachments": {},
   "cell_type": "markdown",
   "metadata": {},
   "source": [
    "## Reshaping with np.pad with zeros for a 7x7 CNN aproach"
   ]
  },
  {
   "attachments": {},
   "cell_type": "markdown",
   "metadata": {},
   "source": [
    "### Reshape"
   ]
  },
  {
   "cell_type": "code",
   "execution_count": 7,
   "metadata": {},
   "outputs": [
    {
     "data": {
      "text/plain": [
       "((6506, 7, 7, 2),\n",
       " (1627, 7, 7, 2),\n",
       " (2034, 7, 7, 2),\n",
       " (6506, 2),\n",
       " (1627, 2),\n",
       " (2034, 2))"
      ]
     },
     "execution_count": 7,
     "metadata": {},
     "output_type": "execute_result"
    }
   ],
   "source": [
    "\n",
    "# We want to bring the dimension from each matrix from 7,5,2 to 7,7,2.\n",
    "# We will use numpy.pad to pad the matrices with zeros.\n",
    "# We will pad the matrices with zeros in the third dimension (columns).\n",
    "# Calculate the necessary padding for each matrix.\n",
    "\n",
    "X_train = np.pad(X_train, ((0,0),(0,0),(0, X_train.shape[1]-X_train.shape[2]), (0,0)), mode='constant')\n",
    "X_val = np.pad(X_val, ((0,0),(0,0),(0, X_val.shape[1]-X_val.shape[2]), (0,0)), mode='constant')\n",
    "X_test = np.pad(X_test, ((0,0),(0,0),(0, X_test.shape[1]-X_test.shape[2]), (0,0)), mode='constant')\n",
    "\n",
    "# Reshape the y data to be a column one-hot encoded vector.\n",
    "y_train = keras.utils.to_categorical(y_train, 2)\n",
    "y_val = keras.utils.to_categorical(y_val, 2)\n",
    "y_test = keras.utils.to_categorical(y_test, 2)\n",
    "\n",
    "X_train.shape, X_val.shape, X_test.shape, y_train.shape, y_val.shape, y_test.shape"
   ]
  },
  {
   "cell_type": "code",
   "execution_count": 8,
   "metadata": {},
   "outputs": [
    {
     "data": {
      "text/plain": [
       "array([[0., 1.],\n",
       "       [1., 0.],\n",
       "       [1., 0.],\n",
       "       ...,\n",
       "       [1., 0.],\n",
       "       [1., 0.],\n",
       "       [1., 0.]], dtype=float32)"
      ]
     },
     "execution_count": 8,
     "metadata": {},
     "output_type": "execute_result"
    }
   ],
   "source": [
    "# Show target vector ([0,1] = muon, [1,0] = antimuon)\n",
    "y_train"
   ]
  },
  {
   "attachments": {},
   "cell_type": "markdown",
   "metadata": {},
   "source": [
    "### Plot"
   ]
  },
  {
   "cell_type": "code",
   "execution_count": 9,
   "metadata": {},
   "outputs": [
    {
     "data": {
      "image/png": "[encoded data removed]",
      "text/plain": [
       "<Figure size 700x700 with 2 Axes>"
      ]
     },
     "metadata": {},
     "output_type": "display_data"
    },
    {
     "data": {
      "image/png": "[encoded data removed]",
      "text/plain": [
       "<Figure size 700x700 with 2 Axes>"
      ]
     },
     "metadata": {},
     "output_type": "display_data"
    },
    {
     "data": {
      "image/png": "[encoded data removed]",
      "text/plain": [
       "<Figure size 700x700 with 2 Axes>"
      ]
     },
     "metadata": {},
     "output_type": "display_data"
    }
   ],
   "source": [
    "# Plotting a muon event\n",
    "# We will plot a muon event from the training set.\n",
    "# We will use the function imshow from matplotlib.pyplot to plot the event.\n",
    "# We will use the parameter cmap to plot the two channels of the event with different colors.\n",
    "# Plotting the two channels of the event with different colors with shared axis.\n",
    "# Plot 3 random events from the training set.\n",
    "\n",
    "random_events = np.random.randint(0, X_train.shape[0], 3)\n",
    "\n",
    "for i in random_events:\n",
    "        plt.figure(figsize=(7,7))\n",
    "        plt.subplot(1,2,1)\n",
    "        plt.imshow(X_train[i,:,:,0], cmap='Reds')\n",
    "        plt.title('Muon' if y_train[i][0] == 0 else 'Antimuon')\n",
    "        plt.xticks([])\n",
    "        plt.yticks([])\n",
    "        plt.subplot(1,2,2, sharex=plt.gca(), sharey=plt.gca())\n",
    "        plt.imshow(X_train[i,:,:,1], cmap='Blues')\n",
    "        plt.title('Muon' if y_train[i][0] == 0 else 'Antimuon')\n",
    "        # Show tick labels on both sides\n",
    "        plt.tick_params('x', labelbottom=True, labeltop=True)\n",
    "        plt.tick_params('y', labelleft=True, labelright=True)\n",
    "        \n",
    "plt.show()\n",
    "        "
   ]
  },
  {
   "cell_type": "code",
   "execution_count": 11,
   "metadata": {},
   "outputs": [
    {
     "ename": "ValueError",
     "evalue": "One of the dimensions in the output is <= 0 due to downsampling in conv2d_2. Consider increasing the input size. Received input shape [None, 1, 1, 64] which would produce output shape with a zero or negative value in a dimension.",
     "output_type": "error",
     "traceback": [
      "\u001b[0;31m---------------------------------------------------------------------------\u001b[0m",
      "\u001b[0;31mValueError\u001b[0m                                Traceback (most recent call last)",
      "Cell \u001b[0;32mIn[11], line 19\u001b[0m\n\u001b[1;32m     17\u001b[0m model\u001b[39m.\u001b[39madd(keras\u001b[39m.\u001b[39mlayers\u001b[39m.\u001b[39mConv2D(\u001b[39m64\u001b[39m, kernel_size\u001b[39m=\u001b[39m(\u001b[39m3\u001b[39m, \u001b[39m3\u001b[39m), activation\u001b[39m=\u001b[39m\u001b[39m'\u001b[39m\u001b[39mrelu\u001b[39m\u001b[39m'\u001b[39m))\n\u001b[1;32m     18\u001b[0m model\u001b[39m.\u001b[39madd(keras\u001b[39m.\u001b[39mlayers\u001b[39m.\u001b[39mMaxPooling2D(pool_size\u001b[39m=\u001b[39m(\u001b[39m2\u001b[39m,\u001b[39m2\u001b[39m)))\n\u001b[0;32m---> 19\u001b[0m model\u001b[39m.\u001b[39;49madd(keras\u001b[39m.\u001b[39;49mlayers\u001b[39m.\u001b[39;49mConv2D(\u001b[39m128\u001b[39;49m, kernel_size\u001b[39m=\u001b[39;49m(\u001b[39m3\u001b[39;49m, \u001b[39m3\u001b[39;49m), activation\u001b[39m=\u001b[39;49m\u001b[39m'\u001b[39;49m\u001b[39mrelu\u001b[39;49m\u001b[39m'\u001b[39;49m))\n\u001b[1;32m     20\u001b[0m model\u001b[39m.\u001b[39madd(keras\u001b[39m.\u001b[39mlayers\u001b[39m.\u001b[39mMaxPooling2D(pool_size\u001b[39m=\u001b[39m(\u001b[39m2\u001b[39m,\u001b[39m2\u001b[39m)))\n\u001b[1;32m     21\u001b[0m model\u001b[39m.\u001b[39madd(keras\u001b[39m.\u001b[39mlayers\u001b[39m.\u001b[39mFlatten())\n",
      "File \u001b[0;32m/usr/local/lib/python3.11/site-packages/tensorflow/python/trackable/base.py:205\u001b[0m, in \u001b[0;36mno_automatic_dependency_tracking.<locals>._method_wrapper\u001b[0;34m(self, *args, **kwargs)\u001b[0m\n\u001b[1;32m    203\u001b[0m \u001b[39mself\u001b[39m\u001b[39m.\u001b[39m_self_setattr_tracking \u001b[39m=\u001b[39m \u001b[39mFalse\u001b[39;00m  \u001b[39m# pylint: disable=protected-access\u001b[39;00m\n\u001b[1;32m    204\u001b[0m \u001b[39mtry\u001b[39;00m:\n\u001b[0;32m--> 205\u001b[0m   result \u001b[39m=\u001b[39m method(\u001b[39mself\u001b[39;49m, \u001b[39m*\u001b[39;49margs, \u001b[39m*\u001b[39;49m\u001b[39m*\u001b[39;49mkwargs)\n\u001b[1;32m    206\u001b[0m \u001b[39mfinally\u001b[39;00m:\n\u001b[1;32m    207\u001b[0m   \u001b[39mself\u001b[39m\u001b[39m.\u001b[39m_self_setattr_tracking \u001b[39m=\u001b[39m previous_value  \u001b[39m# pylint: disable=protected-access\u001b[39;00m\n",
      "File \u001b[0;32m/usr/local/lib/python3.11/site-packages/keras/utils/traceback_utils.py:70\u001b[0m, in \u001b[0;36mfilter_traceback.<locals>.error_handler\u001b[0;34m(*args, **kwargs)\u001b[0m\n\u001b[1;32m     67\u001b[0m     filtered_tb \u001b[39m=\u001b[39m _process_traceback_frames(e\u001b[39m.\u001b[39m__traceback__)\n\u001b[1;32m     68\u001b[0m     \u001b[39m# To get the full stack trace, call:\u001b[39;00m\n\u001b[1;32m     69\u001b[0m     \u001b[39m# `tf.debugging.disable_traceback_filtering()`\u001b[39;00m\n\u001b[0;32m---> 70\u001b[0m     \u001b[39mraise\u001b[39;00m e\u001b[39m.\u001b[39mwith_traceback(filtered_tb) \u001b[39mfrom\u001b[39;00m \u001b[39mNone\u001b[39;00m\n\u001b[1;32m     71\u001b[0m \u001b[39mfinally\u001b[39;00m:\n\u001b[1;32m     72\u001b[0m     \u001b[39mdel\u001b[39;00m filtered_tb\n",
      "File \u001b[0;32m/usr/local/lib/python3.11/site-packages/keras/layers/convolutional/base_conv.py:354\u001b[0m, in \u001b[0;36mConv.compute_output_shape\u001b[0;34m(self, input_shape)\u001b[0m\n\u001b[1;32m    347\u001b[0m         \u001b[39mreturn\u001b[39;00m tf\u001b[39m.\u001b[39mTensorShape(\n\u001b[1;32m    348\u001b[0m             input_shape[:batch_rank]\n\u001b[1;32m    349\u001b[0m             \u001b[39m+\u001b[39m [\u001b[39mself\u001b[39m\u001b[39m.\u001b[39mfilters]\n\u001b[1;32m    350\u001b[0m             \u001b[39m+\u001b[39m \u001b[39mself\u001b[39m\u001b[39m.\u001b[39m_spatial_output_shape(input_shape[batch_rank \u001b[39m+\u001b[39m \u001b[39m1\u001b[39m :])\n\u001b[1;32m    351\u001b[0m         )\n\u001b[1;32m    353\u001b[0m \u001b[39mexcept\u001b[39;00m \u001b[39mValueError\u001b[39;00m:\n\u001b[0;32m--> 354\u001b[0m     \u001b[39mraise\u001b[39;00m \u001b[39mValueError\u001b[39;00m(\n\u001b[1;32m    355\u001b[0m         \u001b[39m\"\u001b[39m\u001b[39mOne of the dimensions in the output is <= 0 \u001b[39m\u001b[39m\"\u001b[39m\n\u001b[1;32m    356\u001b[0m         \u001b[39mf\u001b[39m\u001b[39m\"\u001b[39m\u001b[39mdue to downsampling in \u001b[39m\u001b[39m{\u001b[39;00m\u001b[39mself\u001b[39m\u001b[39m.\u001b[39mname\u001b[39m}\u001b[39;00m\u001b[39m. Consider \u001b[39m\u001b[39m\"\u001b[39m\n\u001b[1;32m    357\u001b[0m         \u001b[39m\"\u001b[39m\u001b[39mincreasing the input size. \u001b[39m\u001b[39m\"\u001b[39m\n\u001b[1;32m    358\u001b[0m         \u001b[39mf\u001b[39m\u001b[39m\"\u001b[39m\u001b[39mReceived input shape \u001b[39m\u001b[39m{\u001b[39;00minput_shape\u001b[39m}\u001b[39;00m\u001b[39m which would produce \u001b[39m\u001b[39m\"\u001b[39m\n\u001b[1;32m    359\u001b[0m         \u001b[39m\"\u001b[39m\u001b[39moutput shape with a zero or negative value in a \u001b[39m\u001b[39m\"\u001b[39m\n\u001b[1;32m    360\u001b[0m         \u001b[39m\"\u001b[39m\u001b[39mdimension.\u001b[39m\u001b[39m\"\u001b[39m\n\u001b[1;32m    361\u001b[0m     )\n",
      "\u001b[0;31mValueError\u001b[0m: One of the dimensions in the output is <= 0 due to downsampling in conv2d_2. Consider increasing the input size. Received input shape [None, 1, 1, 64] which would produce output shape with a zero or negative value in a dimension."
     ]
    }
   ],
   "source": [
    "# CNN\n",
    "# We will use a CNN to classify the events.\n",
    "# The input of the CNN will be a matrix with two channels (side 1 and side 2) with the energy deposited in each sparse coordinate.\n",
    "# The output of the CNN will be a vector with two elements (one for each class).\n",
    "# The CNN will have two convolutional layers, two max pooling layers and two dense layers.\n",
    "# The first convolutional layer will have 32 filters of size 3x3.\n",
    "# The second convolutional layer will have 64 filters of size 3x3.\n",
    "# The first max pooling layer will have a pool size of 2x2.\n",
    "# The second max pooling layer will have a pool size of 2x2.\n",
    "# The first dense layer will have 128 neurons.\n",
    "# The second dense layer will have 2 neurons.\n",
    "\n",
    "\n",
    "# Create the CNN\n",
    "model = keras.models.Sequential()\n",
    "model.add(keras.layers.Conv2D(32, kernel_size=(3, 3), activation='relu', input_shape=(7, 7, 2)))\n",
    "model.add(keras.layers.Conv2D(64, kernel_size=(3, 3), activation='relu'))\n",
    "model.add(keras.layers.MaxPooling2D(pool_size=(2,2)))\n",
    "model.add(keras.layers.Conv2D(128, kernel_size=(3, 3), activation='relu'))\n",
    "model.add(keras.layers.MaxPooling2D(pool_size=(2,2)))\n",
    "model.add(keras.layers.Flatten())\n",
    "model.add(keras.layers.Dense(128, activation='relu'))\n",
    "model.add(keras.layers.Dense(2, activation='softmax'))\n",
    "\n",
    "# Compile the CNN\n",
    "model.compile(loss='categorical_crossentropy', optimizer=keras.Adam(lr=0.0001), metrics=['accuracy'])\n",
    "\n",
    "# Train the CNN\n",
    "history = model.fit(X_train, y_train, batch_size=32, epochs=10, verbose=1, validation_data=(X_val, y_val))\n",
    "\n",
    "# Evaluate the CNN\n",
    "score = model.evaluate(X_test, y_test, verbose=0)\n",
    "print('Test loss:', score[0])\n",
    "print('Test accuracy:', score[1])\n",
    "\n",
    "# Predict the classes of the test set\n",
    "y_pred = model.predict(X_test)"
   ]
  },
  {
   "cell_type": "code",
   "execution_count": null,
   "metadata": {},
   "outputs": [],
   "source": [
    "# Plotting the training and validation loss\n",
    "# We will use the function plot from matplotlib.pyplot to plot the training and validation loss.\n",
    "# We will use the function title from matplotlib.pyplot to add a title to the plot.\n",
    "# We will use the function xlabel from matplotlib.pyplot to add a label to the x-axis.\n",
    "# We will use the function ylabel from matplotlib.pyplot to add a label to the y-axis.\n",
    "# We will use the function legend from matplotlib.pyplot to add a legend to the plot.\n",
    "\n",
    "plt.plot(history.history['loss'], label='Training loss')\n",
    "plt.plot(history.history['val_loss'], label='Validation loss')\n",
    "plt.title('Training and validation loss')\n",
    "plt.xlabel('Epoch')\n",
    "plt.ylabel('Loss')\n",
    "plt.legend()\n",
    "plt.show()"
   ]
  },
  {
   "attachments": {},
   "cell_type": "markdown",
   "metadata": {},
   "source": [
    "## Reshaping with the keras.smart_resize 32x32 CNN approach"
   ]
  },
  {
   "attachments": {},
   "cell_type": "markdown",
   "metadata": {},
   "source": [
    "### Reshape"
   ]
  },
  {
   "cell_type": "code",
   "execution_count": 31,
   "metadata": {},
   "outputs": [
    {
     "data": {
      "text/plain": [
       "((6506, 32, 32, 2),\n",
       " (1627, 32, 32, 2),\n",
       " (2034, 32, 32, 2),\n",
       " (6506, 2),\n",
       " (1627, 2),\n",
       " (2034, 2))"
      ]
     },
     "execution_count": 31,
     "metadata": {},
     "output_type": "execute_result"
    }
   ],
   "source": [
    "# Making sure that the data is in the correct format for the CNN\n",
    "# We will use the function reshape from numpy to reshape the data.\n",
    "# We will reshape the data to have 4 dimensions. Parameter 1 will be the number of events, 2 and 3 will be the dimensions of the matrix and 4 will be the number of channels.\n",
    "# Images are not square, so we will proportionally resize the images to be square.\n",
    "\n",
    "# Dimensions to resize the images to\n",
    "ROWS = 32\n",
    "COLS = 32\n",
    "\n",
    "X_train = np.array([keras.preprocessing.image.smart_resize(image, (ROWS, COLS)) for image in X_train])\n",
    "X_val = np.array([keras.preprocessing.image.smart_resize(image, (ROWS, COLS)) for image in X_val])\n",
    "X_test = np.array([keras.preprocessing.image.smart_resize(image, (ROWS, COLS)) for image in X_test])\n",
    "\n",
    "# Reshaping the target data to have 2 dimensions (one-hot encoding)\n",
    "#y_train = np.reshape(y_train, (-1, 1))\n",
    "#y_val = np.reshape(y_val, (-1, 1))\n",
    "#y_test = np.reshape(y_test, (-1, 1))\n",
    "\n",
    "# Reshaping the target data to have 2 dimensions (one-hot encoding)\n",
    "y_train = keras.utils.to_categorical(y_train)\n",
    "y_val = keras.utils.to_categorical(y_val)\n",
    "y_test = keras.utils.to_categorical(y_test)\n",
    "\n",
    "X_train.shape, X_val.shape, X_test.shape, y_train.shape, y_val.shape, y_test.shape"
   ]
  },
  {
   "cell_type": "code",
   "execution_count": 12,
   "metadata": {},
   "outputs": [
    {
     "data": {
      "text/plain": [
       "array([[0., 1.],\n",
       "       [1., 0.],\n",
       "       [1., 0.],\n",
       "       ...,\n",
       "       [1., 0.],\n",
       "       [1., 0.],\n",
       "       [1., 0.]], dtype=float32)"
      ]
     },
     "execution_count": 12,
     "metadata": {},
     "output_type": "execute_result"
    }
   ],
   "source": [
    "# Show target vector ([0,1] = muon, [1,0] = antimuon)\n",
    "y_train"
   ]
  },
  {
   "attachments": {},
   "cell_type": "markdown",
   "metadata": {},
   "source": [
    "### Plot"
   ]
  },
  {
   "cell_type": "code",
   "execution_count": 16,
   "metadata": {},
   "outputs": [
    {
     "data": {
      "image/png": "[encoded data removed]",
      "text/plain": [
       "<Figure size 700x700 with 2 Axes>"
      ]
     },
     "metadata": {},
     "output_type": "display_data"
    },
    {
     "data": {
      "image/png": "[encoded data removed]",
      "text/plain": [
       "<Figure size 700x700 with 2 Axes>"
      ]
     },
     "metadata": {},
     "output_type": "display_data"
    },
    {
     "data": {
      "image/png": "[encoded data removed]",
      "text/plain": [
       "<Figure size 700x700 with 2 Axes>"
      ]
     },
     "metadata": {},
     "output_type": "display_data"
    }
   ],
   "source": [
    "# Plotting a muon event\n",
    "# We will plot a muon event from the training set.\n",
    "# We will use the function imshow from matplotlib.pyplot to plot the event.\n",
    "# We will use the parameter cmap to plot the two channels of the event with different colors.\n",
    "# Plotting the two channels of the event with different colors with shared axis.\n",
    "# Plot 3 random events from the training set.\n",
    "\n",
    "random_events = np.random.randint(0, X_train.shape[0], 3)\n",
    "\n",
    "for i in random_events:\n",
    "        plt.figure(figsize=(7,7))\n",
    "        plt.subplot(1,2,1)\n",
    "        plt.imshow(X_train[i,:,:,0], cmap='Reds')\n",
    "        plt.title('Muon - SIDE 1' if y_train[i][0] == 0 else 'Antimuon - SIDE 1')\n",
    "        plt.xticks([])\n",
    "        plt.yticks([])\n",
    "        plt.subplot(1,2,2, sharex=plt.gca(), sharey=plt.gca())\n",
    "        plt.imshow(X_train[i,:,:,1], cmap='Blues')\n",
    "        plt.title('Muon - SIDE 2' if y_train[i][0] == 0 else 'Antimuon - SIDE 2')\n",
    "        # Show tick labels on both sides\n",
    "        plt.tick_params('x', labelbottom=True, labeltop=True)\n",
    "        plt.tick_params('y', labelleft=True, labelright=True)\n",
    "        \n",
    "plt.show()"
   ]
  },
  {
   "attachments": {},
   "cell_type": "markdown",
   "metadata": {},
   "source": [
    "### Convolutional Neural Network"
   ]
  },
  {
   "cell_type": "code",
   "execution_count": 145,
   "metadata": {},
   "outputs": [
    {
     "ename": "ValueError",
     "evalue": "Exception encountered when calling layer \"conv2d_9\" (type Conv2D).\n\nNegative dimension size caused by subtracting 3 from 2 for '{{node conv2d_9/Conv2D}} = Conv2D[T=DT_FLOAT, data_format=\"NHWC\", dilations=[1, 1, 1, 1], explicit_paddings=[], padding=\"VALID\", strides=[1, 1, 1, 1], use_cudnn_on_gpu=true](Placeholder, conv2d_9/Conv2D/ReadVariableOp)' with input shapes: [?,2,2,32], [3,3,32,64].\n\nCall arguments received by layer \"conv2d_9\" (type Conv2D):\n  • inputs=tf.Tensor(shape=(None, 2, 2, 32), dtype=float32)",
     "output_type": "error",
     "traceback": [
      "\u001b[0;31m---------------------------------------------------------------------------\u001b[0m",
      "\u001b[0;31mValueError\u001b[0m                                Traceback (most recent call last)",
      "Cell \u001b[0;32mIn[145], line 18\u001b[0m\n\u001b[1;32m      1\u001b[0m \u001b[39m# CNN\u001b[39;00m\n\u001b[1;32m      2\u001b[0m \u001b[39m# We will use a CNN to classify the events.\u001b[39;00m\n\u001b[1;32m      3\u001b[0m \u001b[39m# The input of the CNN will be a matrix with two channels (side 1 and side 2) with the energy deposited in each sparse coordinate.\u001b[39;00m\n\u001b[0;32m   (...)\u001b[0m\n\u001b[1;32m     16\u001b[0m \n\u001b[1;32m     17\u001b[0m \u001b[39m# Create the CNN\u001b[39;00m\n\u001b[0;32m---> 18\u001b[0m model \u001b[39m=\u001b[39m keras\u001b[39m.\u001b[39;49mmodels\u001b[39m.\u001b[39;49mSequential([\n\u001b[1;32m     19\u001b[0m         keras\u001b[39m.\u001b[39;49mlayers\u001b[39m.\u001b[39;49mConv2D(\u001b[39m32\u001b[39;49m, kernel_size\u001b[39m=\u001b[39;49m(\u001b[39m3\u001b[39;49m,\u001b[39m3\u001b[39;49m), strides\u001b[39m=\u001b[39;49m(\u001b[39m1\u001b[39;49m,\u001b[39m1\u001b[39;49m), activation\u001b[39m=\u001b[39;49m\u001b[39m'\u001b[39;49m\u001b[39mrelu\u001b[39;49m\u001b[39m'\u001b[39;49m, input_shape\u001b[39m=\u001b[39;49m(X_train\u001b[39m.\u001b[39;49mshape[\u001b[39m1\u001b[39;49m], X_train\u001b[39m.\u001b[39;49mshape[\u001b[39m2\u001b[39;49m], X_train\u001b[39m.\u001b[39;49mshape[\u001b[39m3\u001b[39;49m])),\n\u001b[1;32m     20\u001b[0m         keras\u001b[39m.\u001b[39;49mlayers\u001b[39m.\u001b[39;49mMaxPooling2D(pool_size\u001b[39m=\u001b[39;49m(\u001b[39m2\u001b[39;49m,\u001b[39m2\u001b[39;49m), strides\u001b[39m=\u001b[39;49m(\u001b[39m2\u001b[39;49m,\u001b[39m2\u001b[39;49m)),\n\u001b[1;32m     21\u001b[0m         keras\u001b[39m.\u001b[39;49mlayers\u001b[39m.\u001b[39;49mConv2D(\u001b[39m64\u001b[39;49m, kernel_size\u001b[39m=\u001b[39;49m(\u001b[39m3\u001b[39;49m,\u001b[39m3\u001b[39;49m), strides\u001b[39m=\u001b[39;49m(\u001b[39m1\u001b[39;49m,\u001b[39m1\u001b[39;49m), activation\u001b[39m=\u001b[39;49m\u001b[39m'\u001b[39;49m\u001b[39mrelu\u001b[39;49m\u001b[39m'\u001b[39;49m),\n\u001b[1;32m     22\u001b[0m         keras\u001b[39m.\u001b[39;49mlayers\u001b[39m.\u001b[39;49mMaxPooling2D(pool_size\u001b[39m=\u001b[39;49m(\u001b[39m2\u001b[39;49m,\u001b[39m2\u001b[39;49m), strides\u001b[39m=\u001b[39;49m(\u001b[39m2\u001b[39;49m,\u001b[39m2\u001b[39;49m)),\n\u001b[1;32m     23\u001b[0m         keras\u001b[39m.\u001b[39;49mlayers\u001b[39m.\u001b[39;49mFlatten(),\n\u001b[1;32m     24\u001b[0m         keras\u001b[39m.\u001b[39;49mlayers\u001b[39m.\u001b[39;49mDense(\u001b[39m128\u001b[39;49m, activation\u001b[39m=\u001b[39;49m\u001b[39m'\u001b[39;49m\u001b[39mrelu\u001b[39;49m\u001b[39m'\u001b[39;49m),\n\u001b[1;32m     25\u001b[0m         keras\u001b[39m.\u001b[39;49mlayers\u001b[39m.\u001b[39;49mDense(\u001b[39m2\u001b[39;49m, activation\u001b[39m=\u001b[39;49m\u001b[39m'\u001b[39;49m\u001b[39msoftmax\u001b[39;49m\u001b[39m'\u001b[39;49m)\n\u001b[1;32m     26\u001b[0m ])\n\u001b[1;32m     28\u001b[0m \u001b[39m# Compile the CNN\u001b[39;00m\n\u001b[1;32m     29\u001b[0m model\u001b[39m.\u001b[39mcompile(optimizer\u001b[39m=\u001b[39mkeras\u001b[39m.\u001b[39moptimizers\u001b[39m.\u001b[39mAdam(learning_rate\u001b[39m=\u001b[39m\u001b[39m0.001\u001b[39m), loss\u001b[39m=\u001b[39m\u001b[39m'\u001b[39m\u001b[39mcategorical_crossentropy\u001b[39m\u001b[39m'\u001b[39m, metrics\u001b[39m=\u001b[39m[\u001b[39m'\u001b[39m\u001b[39maccuracy\u001b[39m\u001b[39m'\u001b[39m])\n",
      "File \u001b[0;32m/usr/local/lib/python3.11/site-packages/tensorflow/python/trackable/base.py:205\u001b[0m, in \u001b[0;36mno_automatic_dependency_tracking.<locals>._method_wrapper\u001b[0;34m(self, *args, **kwargs)\u001b[0m\n\u001b[1;32m    203\u001b[0m \u001b[39mself\u001b[39m\u001b[39m.\u001b[39m_self_setattr_tracking \u001b[39m=\u001b[39m \u001b[39mFalse\u001b[39;00m  \u001b[39m# pylint: disable=protected-access\u001b[39;00m\n\u001b[1;32m    204\u001b[0m \u001b[39mtry\u001b[39;00m:\n\u001b[0;32m--> 205\u001b[0m   result \u001b[39m=\u001b[39m method(\u001b[39mself\u001b[39;49m, \u001b[39m*\u001b[39;49margs, \u001b[39m*\u001b[39;49m\u001b[39m*\u001b[39;49mkwargs)\n\u001b[1;32m    206\u001b[0m \u001b[39mfinally\u001b[39;00m:\n\u001b[1;32m    207\u001b[0m   \u001b[39mself\u001b[39m\u001b[39m.\u001b[39m_self_setattr_tracking \u001b[39m=\u001b[39m previous_value  \u001b[39m# pylint: disable=protected-access\u001b[39;00m\n",
      "File \u001b[0;32m/usr/local/lib/python3.11/site-packages/keras/utils/traceback_utils.py:70\u001b[0m, in \u001b[0;36mfilter_traceback.<locals>.error_handler\u001b[0;34m(*args, **kwargs)\u001b[0m\n\u001b[1;32m     67\u001b[0m     filtered_tb \u001b[39m=\u001b[39m _process_traceback_frames(e\u001b[39m.\u001b[39m__traceback__)\n\u001b[1;32m     68\u001b[0m     \u001b[39m# To get the full stack trace, call:\u001b[39;00m\n\u001b[1;32m     69\u001b[0m     \u001b[39m# `tf.debugging.disable_traceback_filtering()`\u001b[39;00m\n\u001b[0;32m---> 70\u001b[0m     \u001b[39mraise\u001b[39;00m e\u001b[39m.\u001b[39mwith_traceback(filtered_tb) \u001b[39mfrom\u001b[39;00m \u001b[39mNone\u001b[39;00m\n\u001b[1;32m     71\u001b[0m \u001b[39mfinally\u001b[39;00m:\n\u001b[1;32m     72\u001b[0m     \u001b[39mdel\u001b[39;00m filtered_tb\n",
      "File \u001b[0;32m/usr/local/lib/python3.11/site-packages/tensorflow/python/framework/ops.py:1973\u001b[0m, in \u001b[0;36m_create_c_op\u001b[0;34m(graph, node_def, inputs, control_inputs, op_def, extract_traceback)\u001b[0m\n\u001b[1;32m   1970\u001b[0m   c_op \u001b[39m=\u001b[39m pywrap_tf_session\u001b[39m.\u001b[39mTF_FinishOperation(op_desc)\n\u001b[1;32m   1971\u001b[0m \u001b[39mexcept\u001b[39;00m errors\u001b[39m.\u001b[39mInvalidArgumentError \u001b[39mas\u001b[39;00m e:\n\u001b[1;32m   1972\u001b[0m   \u001b[39m# Convert to ValueError for backwards compatibility.\u001b[39;00m\n\u001b[0;32m-> 1973\u001b[0m   \u001b[39mraise\u001b[39;00m \u001b[39mValueError\u001b[39;00m(e\u001b[39m.\u001b[39mmessage)\n\u001b[1;32m   1975\u001b[0m \u001b[39m# Record the current Python stack trace as the creating stacktrace of this\u001b[39;00m\n\u001b[1;32m   1976\u001b[0m \u001b[39m# TF_Operation.\u001b[39;00m\n\u001b[1;32m   1977\u001b[0m \u001b[39mif\u001b[39;00m extract_traceback:\n",
      "\u001b[0;31mValueError\u001b[0m: Exception encountered when calling layer \"conv2d_9\" (type Conv2D).\n\nNegative dimension size caused by subtracting 3 from 2 for '{{node conv2d_9/Conv2D}} = Conv2D[T=DT_FLOAT, data_format=\"NHWC\", dilations=[1, 1, 1, 1], explicit_paddings=[], padding=\"VALID\", strides=[1, 1, 1, 1], use_cudnn_on_gpu=true](Placeholder, conv2d_9/Conv2D/ReadVariableOp)' with input shapes: [?,2,2,32], [3,3,32,64].\n\nCall arguments received by layer \"conv2d_9\" (type Conv2D):\n  • inputs=tf.Tensor(shape=(None, 2, 2, 32), dtype=float32)"
     ]
    }
   ],
   "source": [
    "# CNN\n",
    "# We will use a CNN to classify the events.\n",
    "# The input of the CNN will be a matrix with two channels (side 1 and side 2) with the energy deposited in each sparse coordinate.\n",
    "# The output of the CNN will be a vector with two elements (one for each class).\n",
    "# The CNN will have two convolutional layers, two max pooling layers and two dense layers.\n",
    "# The first convolutional layer will have 32 filters, a kernel size of 3x3, a stride of 1x1 and a ReLU activation function.\n",
    "# The first max pooling layer will have a pool size of 2x2 and a stride of 2x2.\n",
    "# The second convolutional layer will have 64 filters, a kernel size of 3x3, a stride of 1x1 and a ReLU activation function.\n",
    "# The second max pooling layer will have a pool size of 2x2 and a stride of 2x2.\n",
    "# The first dense layer will have 128 neurons and a ReLU activation function.\n",
    "# The second dense layer will have 2 neurons and a softmax activation function.\n",
    "# We will use the Adam optimizer with a learning rate of 0.001.\n",
    "# We will use the categorical crossentropy loss function.\n",
    "# We will use the accuracy metric.\n",
    "# We will train the CNN for 10 epochs with a batch size of 32.\n",
    "\n",
    "# Create the CNN\n",
    "model = keras.models.Sequential([\n",
    "        keras.layers.Conv2D(32, kernel_size=(3,3), strides=(1,1), activation='relu', input_shape=(X_train.shape[1], X_train.shape[2], X_train.shape[3])),\n",
    "        keras.layers.MaxPooling2D(pool_size=(2,2), strides=(2,2)),\n",
    "        keras.layers.Conv2D(64, kernel_size=(3,3), strides=(1,1), activation='relu'),\n",
    "        keras.layers.MaxPooling2D(pool_size=(2,2), strides=(2,2)),\n",
    "        keras.layers.Flatten(),\n",
    "        keras.layers.Dense(128, activation='relu'),\n",
    "        keras.layers.Dense(2, activation='softmax')\n",
    "])\n",
    "\n",
    "# Compile the CNN\n",
    "model.compile(optimizer=keras.optimizers.Adam(learning_rate=0.001), loss='categorical_crossentropy', metrics=['accuracy'])\n",
    "\n",
    "# Train the CNN\n",
    "history = model.fit(X_train, y_train, epochs=10, batch_size=32, validation_data=(X_val, y_val))\n",
    "        "
   ]
  },
  {
   "cell_type": "code",
   "execution_count": 25,
   "metadata": {},
   "outputs": [
    {
     "data": {
      "image/png": "[encoded data removed]",
      "text/plain": [
       "<Figure size 640x480 with 1 Axes>"
      ]
     },
     "metadata": {},
     "output_type": "display_data"
    }
   ],
   "source": [
    "# Plotting the training and validation loss\n",
    "# We will use the function plot from matplotlib.pyplot to plot the training and validation loss.\n",
    "# We will use the function title from matplotlib.pyplot to add a title to the plot.\n",
    "# We will use the function xlabel from matplotlib.pyplot to add a label to the x-axis.\n",
    "# We will use the function ylabel from matplotlib.pyplot to add a label to the y-axis.\n",
    "# We will use the function legend from matplotlib.pyplot to add a legend to the plot.\n",
    "\n",
    "plt.plot(history.history['loss'], label='Training loss')\n",
    "plt.plot(history.history['val_loss'], label='Validation loss')\n",
    "plt.title('Training and validation loss')\n",
    "plt.xlabel('Epoch')\n",
    "plt.ylabel('Loss')\n",
    "plt.legend()\n",
    "plt.show()\n"
   ]
  },
  {
   "attachments": {},
   "cell_type": "markdown",
   "metadata": {},
   "source": [
    "## Feed-Forward Approach"
   ]
  },
  {
   "attachments": {},
   "cell_type": "markdown",
   "metadata": {},
   "source": [
    "### Reshape"
   ]
  },
  {
   "cell_type": "code",
   "execution_count": 25,
   "metadata": {},
   "outputs": [],
   "source": [
    "# Reshape the data for a fit forward neural networ\n",
    "# Reshape the y data to be a column one-hot encoded vector.\n",
    "y_train = keras.utils.to_categorical(y_train, 2)\n",
    "y_val = keras.utils.to_categorical(y_val, 2)\n",
    "y_test = keras.utils.to_categorical(y_test, 2)"
   ]
  },
  {
   "attachments": {},
   "cell_type": "markdown",
   "metadata": {},
   "source": [
    "### FFNN"
   ]
  },
  {
   "cell_type": "code",
   "execution_count": 31,
   "metadata": {},
   "outputs": [
    {
     "name": "stdout",
     "output_type": "stream",
     "text": [
      "Model: \"sequential_9\"\n",
      "_________________________________________________________________\n",
      " Layer (type)                Output Shape              Param #   \n",
      "=================================================================\n",
      " flatten_7 (Flatten)         (None, 70)                0         \n",
      "                                                                 \n",
      " dense_13 (Dense)            (None, 2)                 142       \n",
      "                                                                 \n",
      "=================================================================\n",
      "Total params: 142\n",
      "Trainable params: 142\n",
      "Non-trainable params: 0\n",
      "_________________________________________________________________\n",
      "Epoch 1/30\n",
      "204/204 [==============================] - 2s 3ms/step - loss: 0.6931 - precision_7: 0.5060 - recall_7: 0.5060 - auc_14: 0.5053 - auc_15: 0.5053 - accuracy: 0.5060 - f1_score: 0.3333 - val_loss: 0.6930 - val_precision_7: 0.5108 - val_recall_7: 0.5108 - val_auc_14: 0.5108 - val_auc_15: 0.5108 - val_accuracy: 0.5108 - val_f1_score: 0.3334\n",
      "Epoch 2/30\n",
      "204/204 [==============================] - 0s 2ms/step - loss: 0.6930 - precision_7: 0.5106 - recall_7: 0.5106 - auc_14: 0.5084 - auc_15: 0.5084 - accuracy: 0.5106 - f1_score: 0.3334 - val_loss: 0.6929 - val_precision_7: 0.5108 - val_recall_7: 0.5108 - val_auc_14: 0.5108 - val_auc_15: 0.5108 - val_accuracy: 0.5108 - val_f1_score: 0.3334\n",
      "Epoch 3/30\n",
      "204/204 [==============================] - 0s 1ms/step - loss: 0.6930 - precision_7: 0.5106 - recall_7: 0.5106 - auc_14: 0.5087 - auc_15: 0.5087 - accuracy: 0.5106 - f1_score: 0.3334 - val_loss: 0.6929 - val_precision_7: 0.5108 - val_recall_7: 0.5108 - val_auc_14: 0.5108 - val_auc_15: 0.5108 - val_accuracy: 0.5108 - val_f1_score: 0.3334\n",
      "Epoch 4/30\n",
      "204/204 [==============================] - 0s 1ms/step - loss: 0.6930 - precision_7: 0.5106 - recall_7: 0.5106 - auc_14: 0.5106 - auc_15: 0.5106 - accuracy: 0.5106 - f1_score: 0.3334 - val_loss: 0.6929 - val_precision_7: 0.5108 - val_recall_7: 0.5108 - val_auc_14: 0.5108 - val_auc_15: 0.5108 - val_accuracy: 0.5108 - val_f1_score: 0.3334\n",
      "Epoch 5/30\n",
      "204/204 [==============================] - 0s 2ms/step - loss: 0.6930 - precision_7: 0.5106 - recall_7: 0.5106 - auc_14: 0.5078 - auc_15: 0.5078 - accuracy: 0.5106 - f1_score: 0.3334 - val_loss: 0.6929 - val_precision_7: 0.5108 - val_recall_7: 0.5108 - val_auc_14: 0.5108 - val_auc_15: 0.5108 - val_accuracy: 0.5108 - val_f1_score: 0.3334\n",
      "Epoch 6/30\n",
      "204/204 [==============================] - 0s 2ms/step - loss: 0.6930 - precision_7: 0.5106 - recall_7: 0.5106 - auc_14: 0.5061 - auc_15: 0.5061 - accuracy: 0.5106 - f1_score: 0.3334 - val_loss: 0.6929 - val_precision_7: 0.5108 - val_recall_7: 0.5108 - val_auc_14: 0.5108 - val_auc_15: 0.5108 - val_accuracy: 0.5108 - val_f1_score: 0.3334\n",
      "Epoch 7/30\n",
      "204/204 [==============================] - 0s 2ms/step - loss: 0.6930 - precision_7: 0.5106 - recall_7: 0.5106 - auc_14: 0.5059 - auc_15: 0.5059 - accuracy: 0.5106 - f1_score: 0.3334 - val_loss: 0.6929 - val_precision_7: 0.5108 - val_recall_7: 0.5108 - val_auc_14: 0.5108 - val_auc_15: 0.5108 - val_accuracy: 0.5108 - val_f1_score: 0.3334\n",
      "Epoch 8/30\n",
      "204/204 [==============================] - 0s 2ms/step - loss: 0.6930 - precision_7: 0.5106 - recall_7: 0.5106 - auc_14: 0.5096 - auc_15: 0.5096 - accuracy: 0.5106 - f1_score: 0.3334 - val_loss: 0.6929 - val_precision_7: 0.5108 - val_recall_7: 0.5108 - val_auc_14: 0.5108 - val_auc_15: 0.5108 - val_accuracy: 0.5108 - val_f1_score: 0.3334\n",
      "Epoch 9/30\n",
      "204/204 [==============================] - 0s 2ms/step - loss: 0.6930 - precision_7: 0.5106 - recall_7: 0.5106 - auc_14: 0.5078 - auc_15: 0.5078 - accuracy: 0.5106 - f1_score: 0.3334 - val_loss: 0.6929 - val_precision_7: 0.5108 - val_recall_7: 0.5108 - val_auc_14: 0.5108 - val_auc_15: 0.5108 - val_accuracy: 0.5108 - val_f1_score: 0.3334\n",
      "Epoch 10/30\n",
      "204/204 [==============================] - 0s 1ms/step - loss: 0.6930 - precision_7: 0.5106 - recall_7: 0.5106 - auc_14: 0.5103 - auc_15: 0.5103 - accuracy: 0.5106 - f1_score: 0.3334 - val_loss: 0.6929 - val_precision_7: 0.5108 - val_recall_7: 0.5108 - val_auc_14: 0.5108 - val_auc_15: 0.5108 - val_accuracy: 0.5108 - val_f1_score: 0.3334\n",
      "Epoch 11/30\n",
      "204/204 [==============================] - 0s 2ms/step - loss: 0.6930 - precision_7: 0.5106 - recall_7: 0.5106 - auc_14: 0.5104 - auc_15: 0.5104 - accuracy: 0.5106 - f1_score: 0.3334 - val_loss: 0.6929 - val_precision_7: 0.5108 - val_recall_7: 0.5108 - val_auc_14: 0.5108 - val_auc_15: 0.5108 - val_accuracy: 0.5108 - val_f1_score: 0.3334\n",
      "Epoch 12/30\n",
      "204/204 [==============================] - 0s 2ms/step - loss: 0.6930 - precision_7: 0.5106 - recall_7: 0.5106 - auc_14: 0.5078 - auc_15: 0.5078 - accuracy: 0.5106 - f1_score: 0.3334 - val_loss: 0.6929 - val_precision_7: 0.5108 - val_recall_7: 0.5108 - val_auc_14: 0.5108 - val_auc_15: 0.5108 - val_accuracy: 0.5108 - val_f1_score: 0.3334\n",
      "Epoch 13/30\n",
      "204/204 [==============================] - 0s 2ms/step - loss: 0.6930 - precision_7: 0.5106 - recall_7: 0.5106 - auc_14: 0.5067 - auc_15: 0.5067 - accuracy: 0.5106 - f1_score: 0.3334 - val_loss: 0.6929 - val_precision_7: 0.5108 - val_recall_7: 0.5108 - val_auc_14: 0.5108 - val_auc_15: 0.5108 - val_accuracy: 0.5108 - val_f1_score: 0.3334\n",
      "Epoch 14/30\n",
      "204/204 [==============================] - 0s 2ms/step - loss: 0.6930 - precision_7: 0.5106 - recall_7: 0.5106 - auc_14: 0.5069 - auc_15: 0.5069 - accuracy: 0.5106 - f1_score: 0.3334 - val_loss: 0.6929 - val_precision_7: 0.5108 - val_recall_7: 0.5108 - val_auc_14: 0.5108 - val_auc_15: 0.5108 - val_accuracy: 0.5108 - val_f1_score: 0.3334\n",
      "Epoch 15/30\n",
      "204/204 [==============================] - 0s 2ms/step - loss: 0.6930 - precision_7: 0.5106 - recall_7: 0.5106 - auc_14: 0.5106 - auc_15: 0.5106 - accuracy: 0.5106 - f1_score: 0.3334 - val_loss: 0.6929 - val_precision_7: 0.5108 - val_recall_7: 0.5108 - val_auc_14: 0.5108 - val_auc_15: 0.5108 - val_accuracy: 0.5108 - val_f1_score: 0.3334\n",
      "Epoch 16/30\n",
      "204/204 [==============================] - 0s 2ms/step - loss: 0.6930 - precision_7: 0.5106 - recall_7: 0.5106 - auc_14: 0.5089 - auc_15: 0.5089 - accuracy: 0.5106 - f1_score: 0.3334 - val_loss: 0.6929 - val_precision_7: 0.5108 - val_recall_7: 0.5108 - val_auc_14: 0.5108 - val_auc_15: 0.5108 - val_accuracy: 0.5108 - val_f1_score: 0.3334\n",
      "Epoch 17/30\n",
      "204/204 [==============================] - 0s 2ms/step - loss: 0.6930 - precision_7: 0.5106 - recall_7: 0.5106 - auc_14: 0.5088 - auc_15: 0.5088 - accuracy: 0.5106 - f1_score: 0.3334 - val_loss: 0.6929 - val_precision_7: 0.5108 - val_recall_7: 0.5108 - val_auc_14: 0.5108 - val_auc_15: 0.5108 - val_accuracy: 0.5108 - val_f1_score: 0.3334\n",
      "Epoch 18/30\n",
      "204/204 [==============================] - 0s 2ms/step - loss: 0.6930 - precision_7: 0.5106 - recall_7: 0.5106 - auc_14: 0.5084 - auc_15: 0.5084 - accuracy: 0.5106 - f1_score: 0.3334 - val_loss: 0.6929 - val_precision_7: 0.5108 - val_recall_7: 0.5108 - val_auc_14: 0.5108 - val_auc_15: 0.5108 - val_accuracy: 0.5108 - val_f1_score: 0.3334\n",
      "Epoch 19/30\n",
      "204/204 [==============================] - 0s 2ms/step - loss: 0.6930 - precision_7: 0.5106 - recall_7: 0.5106 - auc_14: 0.5041 - auc_15: 0.5041 - accuracy: 0.5106 - f1_score: 0.3334 - val_loss: 0.6929 - val_precision_7: 0.5108 - val_recall_7: 0.5108 - val_auc_14: 0.5108 - val_auc_15: 0.5108 - val_accuracy: 0.5108 - val_f1_score: 0.3334\n",
      "Epoch 20/30\n",
      "204/204 [==============================] - 0s 2ms/step - loss: 0.6930 - precision_7: 0.5106 - recall_7: 0.5106 - auc_14: 0.5098 - auc_15: 0.5098 - accuracy: 0.5106 - f1_score: 0.3334 - val_loss: 0.6929 - val_precision_7: 0.5108 - val_recall_7: 0.5108 - val_auc_14: 0.5108 - val_auc_15: 0.5108 - val_accuracy: 0.5108 - val_f1_score: 0.3334\n",
      "Epoch 21/30\n",
      "204/204 [==============================] - 0s 2ms/step - loss: 0.6930 - precision_7: 0.5106 - recall_7: 0.5106 - auc_14: 0.5095 - auc_15: 0.5095 - accuracy: 0.5106 - f1_score: 0.3334 - val_loss: 0.6929 - val_precision_7: 0.5108 - val_recall_7: 0.5108 - val_auc_14: 0.5108 - val_auc_15: 0.5108 - val_accuracy: 0.5108 - val_f1_score: 0.3334\n",
      "Epoch 22/30\n",
      "204/204 [==============================] - 0s 2ms/step - loss: 0.6930 - precision_7: 0.5106 - recall_7: 0.5106 - auc_14: 0.5030 - auc_15: 0.5030 - accuracy: 0.5106 - f1_score: 0.3334 - val_loss: 0.6929 - val_precision_7: 0.5108 - val_recall_7: 0.5108 - val_auc_14: 0.5103 - val_auc_15: 0.5103 - val_accuracy: 0.5108 - val_f1_score: 0.3334\n",
      "Epoch 23/30\n",
      "204/204 [==============================] - 0s 2ms/step - loss: 0.6930 - precision_7: 0.5106 - recall_7: 0.5106 - auc_14: 0.5086 - auc_15: 0.5086 - accuracy: 0.5106 - f1_score: 0.3334 - val_loss: 0.6929 - val_precision_7: 0.5108 - val_recall_7: 0.5108 - val_auc_14: 0.5108 - val_auc_15: 0.5108 - val_accuracy: 0.5108 - val_f1_score: 0.3334\n",
      "Epoch 24/30\n",
      "204/204 [==============================] - 0s 2ms/step - loss: 0.6930 - precision_7: 0.5106 - recall_7: 0.5106 - auc_14: 0.5106 - auc_15: 0.5106 - accuracy: 0.5106 - f1_score: 0.3334 - val_loss: 0.6929 - val_precision_7: 0.5108 - val_recall_7: 0.5108 - val_auc_14: 0.5114 - val_auc_15: 0.5114 - val_accuracy: 0.5108 - val_f1_score: 0.3334\n",
      "Epoch 25/30\n",
      "204/204 [==============================] - 0s 2ms/step - loss: 0.6930 - precision_7: 0.5106 - recall_7: 0.5106 - auc_14: 0.5081 - auc_15: 0.5081 - accuracy: 0.5106 - f1_score: 0.3334 - val_loss: 0.6929 - val_precision_7: 0.5108 - val_recall_7: 0.5108 - val_auc_14: 0.5134 - val_auc_15: 0.5134 - val_accuracy: 0.5108 - val_f1_score: 0.3334\n",
      "Epoch 26/30\n",
      "204/204 [==============================] - 0s 2ms/step - loss: 0.6930 - precision_7: 0.5106 - recall_7: 0.5106 - auc_14: 0.5103 - auc_15: 0.5103 - accuracy: 0.5106 - f1_score: 0.3334 - val_loss: 0.6929 - val_precision_7: 0.5108 - val_recall_7: 0.5108 - val_auc_14: 0.5108 - val_auc_15: 0.5108 - val_accuracy: 0.5108 - val_f1_score: 0.3334\n",
      "Epoch 27/30\n",
      "204/204 [==============================] - 0s 2ms/step - loss: 0.6930 - precision_7: 0.5106 - recall_7: 0.5106 - auc_14: 0.5099 - auc_15: 0.5099 - accuracy: 0.5106 - f1_score: 0.3334 - val_loss: 0.6929 - val_precision_7: 0.5108 - val_recall_7: 0.5108 - val_auc_14: 0.5108 - val_auc_15: 0.5108 - val_accuracy: 0.5108 - val_f1_score: 0.3334\n",
      "Epoch 28/30\n",
      "204/204 [==============================] - 0s 2ms/step - loss: 0.6930 - precision_7: 0.5106 - recall_7: 0.5106 - auc_14: 0.5099 - auc_15: 0.5099 - accuracy: 0.5106 - f1_score: 0.3334 - val_loss: 0.6929 - val_precision_7: 0.5108 - val_recall_7: 0.5108 - val_auc_14: 0.5108 - val_auc_15: 0.5108 - val_accuracy: 0.5108 - val_f1_score: 0.3334\n",
      "Epoch 29/30\n",
      "204/204 [==============================] - 0s 2ms/step - loss: 0.6931 - precision_7: 0.5106 - recall_7: 0.5106 - auc_14: 0.5066 - auc_15: 0.5066 - accuracy: 0.5106 - f1_score: 0.3334 - val_loss: 0.6929 - val_precision_7: 0.5108 - val_recall_7: 0.5108 - val_auc_14: 0.5108 - val_auc_15: 0.5108 - val_accuracy: 0.5108 - val_f1_score: 0.3334\n",
      "Epoch 30/30\n",
      "204/204 [==============================] - 0s 2ms/step - loss: 0.6930 - precision_7: 0.5106 - recall_7: 0.5106 - auc_14: 0.5104 - auc_15: 0.5104 - accuracy: 0.5106 - f1_score: 0.3334 - val_loss: 0.6929 - val_precision_7: 0.5108 - val_recall_7: 0.5108 - val_auc_14: 0.5108 - val_auc_15: 0.5108 - val_accuracy: 0.5108 - val_f1_score: 0.3334\n"
     ]
    }
   ],
   "source": [
    "# Trying with a different approach\n",
    "# We will use a Feed-forward Neural Network to classify the events.\n",
    "# The input of the Fit-forward Neural Network will be a matrix with two channels (side 1 and side 2) with the energy deposited in each sparse coordinate.\n",
    "# The output of the Fit-forward Neural Network will be a vector with two elements (one for each class).\n",
    "# The Fit-forward Neural Network will have two dense layers.\n",
    "# The first dense layer will have 64 neurons and the second dense layer will have 2 neurons (one for each class).\n",
    "# The activation function of the first dense layer will be ReLU and the activation function of the second dense layer will be softmax.\n",
    "# The loss function will be categorical crossentropy and the optimizer will be Adam.\n",
    "# The metrics will be f1-score , precision, recall, AUC and accuracy.\n",
    "\n",
    "def f1_score(precision, recall):\n",
    "        return 2 * (precision * recall) / (precision + recall)\n",
    "\n",
    "model = keras.Sequential([\n",
    "        keras.layers.Flatten(input_shape=(7, 5, 2)),\n",
    "        keras.layers.Dense(2, activation='softmax')\n",
    "        ])\n",
    "\n",
    "# Compile the model and build F1 score metric\n",
    "model.compile(loss='categorical_crossentropy',\n",
    "                optimizer='adam',\n",
    "                metrics=[keras.metrics.Precision(), keras.metrics.Recall(),\n",
    "                         keras.metrics.AUC(), keras.metrics.AUC(curve='ROC'), 'accuracy', f1_score])\n",
    "\n",
    "model.summary()\n",
    "history = model.fit(X_train, y_train, epochs=30, validation_data=(X_val, y_val))"
   ]
  },
  {
   "attachments": {},
   "cell_type": "markdown",
   "metadata": {},
   "source": [
    "## XG-Boost Approach"
   ]
  },
  {
   "cell_type": "code",
   "execution_count": 33,
   "metadata": {},
   "outputs": [
    {
     "data": {
      "text/html": [
       "<style>#sk-container-id-1 {color: black;background-color: white;}#sk-container-id-1 pre{padding: 0;}#sk-container-id-1 div.sk-toggleable {background-color: white;}#sk-container-id-1 label.sk-toggleable__label {cursor: pointer;display: block;width: 100%;margin-bottom: 0;padding: 0.3em;box-sizing: border-box;text-align: center;}#sk-container-id-1 label.sk-toggleable__label-arrow:before {content: \"▸\";float: left;margin-right: 0.25em;color: #696969;}#sk-container-id-1 label.sk-toggleable__label-arrow:hover:before {color: black;}#sk-container-id-1 div.sk-estimator:hover label.sk-toggleable__label-arrow:before {color: black;}#sk-container-id-1 div.sk-toggleable__content {max-height: 0;max-width: 0;overflow: hidden;text-align: left;background-color: #f0f8ff;}#sk-container-id-1 div.sk-toggleable__content pre {margin: 0.2em;color: black;border-radius: 0.25em;background-color: #f0f8ff;}#sk-container-id-1 input.sk-toggleable__control:checked~div.sk-toggleable__content {max-height: 200px;max-width: 100%;overflow: auto;}#sk-container-id-1 input.sk-toggleable__control:checked~label.sk-toggleable__label-arrow:before {content: \"▾\";}#sk-container-id-1 div.sk-estimator input.sk-toggleable__control:checked~label.sk-toggleable__label {background-color: #d4ebff;}#sk-container-id-1 div.sk-label input.sk-toggleable__control:checked~label.sk-toggleable__label {background-color: #d4ebff;}#sk-container-id-1 input.sk-hidden--visually {border: 0;clip: rect(1px 1px 1px 1px);clip: rect(1px, 1px, 1px, 1px);height: 1px;margin: -1px;overflow: hidden;padding: 0;position: absolute;width: 1px;}#sk-container-id-1 div.sk-estimator {font-family: monospace;background-color: #f0f8ff;border: 1px dotted black;border-radius: 0.25em;box-sizing: border-box;margin-bottom: 0.5em;}#sk-container-id-1 div.sk-estimator:hover {background-color: #d4ebff;}#sk-container-id-1 div.sk-parallel-item::after {content: \"\";width: 100%;border-bottom: 1px solid gray;flex-grow: 1;}#sk-container-id-1 div.sk-label:hover label.sk-toggleable__label {background-color: #d4ebff;}#sk-container-id-1 div.sk-serial::before {content: \"\";position: absolute;border-left: 1px solid gray;box-sizing: border-box;top: 0;bottom: 0;left: 50%;z-index: 0;}#sk-container-id-1 div.sk-serial {display: flex;flex-direction: column;align-items: center;background-color: white;padding-right: 0.2em;padding-left: 0.2em;position: relative;}#sk-container-id-1 div.sk-item {position: relative;z-index: 1;}#sk-container-id-1 div.sk-parallel {display: flex;align-items: stretch;justify-content: center;background-color: white;position: relative;}#sk-container-id-1 div.sk-item::before, #sk-container-id-1 div.sk-parallel-item::before {content: \"\";position: absolute;border-left: 1px solid gray;box-sizing: border-box;top: 0;bottom: 0;left: 50%;z-index: -1;}#sk-container-id-1 div.sk-parallel-item {display: flex;flex-direction: column;z-index: 1;position: relative;background-color: white;}#sk-container-id-1 div.sk-parallel-item:first-child::after {align-self: flex-end;width: 50%;}#sk-container-id-1 div.sk-parallel-item:last-child::after {align-self: flex-start;width: 50%;}#sk-container-id-1 div.sk-parallel-item:only-child::after {width: 0;}#sk-container-id-1 div.sk-dashed-wrapped {border: 1px dashed gray;margin: 0 0.4em 0.5em 0.4em;box-sizing: border-box;padding-bottom: 0.4em;background-color: white;}#sk-container-id-1 div.sk-label label {font-family: monospace;font-weight: bold;display: inline-block;line-height: 1.2em;}#sk-container-id-1 div.sk-label-container {text-align: center;}#sk-container-id-1 div.sk-container {/* jupyter's `normalize.less` sets `[hidden] { display: none; }` but bootstrap.min.css set `[hidden] { display: none !important; }` so we also need the `!important` here to be able to override the default hidden behavior on the sphinx rendered scikit-learn.org. See: https://github.com/scikit-learn/scikit-learn/issues/21755 */display: inline-block !important;position: relative;}#sk-container-id-1 div.sk-text-repr-fallback {display: none;}</style><div id=\"sk-container-id-1\" class=\"sk-top-container\"><div class=\"sk-text-repr-fallback\"><pre>XGBClassifier(base_score=None, booster=None, callbacks=None,\n",
       "              colsample_bylevel=None, colsample_bynode=None,\n",
       "              colsample_bytree=None, early_stopping_rounds=None,\n",
       "              enable_categorical=False, eval_metric=None, feature_types=None,\n",
       "              gamma=None, gpu_id=None, grow_policy=None, importance_type=None,\n",
       "              interaction_constraints=None, learning_rate=None, max_bin=None,\n",
       "              max_cat_threshold=None, max_cat_to_onehot=None,\n",
       "              max_delta_step=None, max_depth=None, max_leaves=None,\n",
       "              min_child_weight=None, missing=nan, monotone_constraints=None,\n",
       "              n_estimators=100, n_jobs=None, num_parallel_tree=None,\n",
       "              predictor=None, random_state=None, ...)</pre><b>In a Jupyter environment, please rerun this cell to show the HTML representation or trust the notebook. <br />On GitHub, the HTML representation is unable to render, please try loading this page with nbviewer.org.</b></div><div class=\"sk-container\" hidden><div class=\"sk-item\"><div class=\"sk-estimator sk-toggleable\"><input class=\"sk-toggleable__control sk-hidden--visually\" id=\"sk-estimator-id-1\" type=\"checkbox\" checked><label for=\"sk-estimator-id-1\" class=\"sk-toggleable__label sk-toggleable__label-arrow\">XGBClassifier</label><div class=\"sk-toggleable__content\"><pre>XGBClassifier(base_score=None, booster=None, callbacks=None,\n",
       "              colsample_bylevel=None, colsample_bynode=None,\n",
       "              colsample_bytree=None, early_stopping_rounds=None,\n",
       "              enable_categorical=False, eval_metric=None, feature_types=None,\n",
       "              gamma=None, gpu_id=None, grow_policy=None, importance_type=None,\n",
       "              interaction_constraints=None, learning_rate=None, max_bin=None,\n",
       "              max_cat_threshold=None, max_cat_to_onehot=None,\n",
       "              max_delta_step=None, max_depth=None, max_leaves=None,\n",
       "              min_child_weight=None, missing=nan, monotone_constraints=None,\n",
       "              n_estimators=100, n_jobs=None, num_parallel_tree=None,\n",
       "              predictor=None, random_state=None, ...)</pre></div></div></div></div></div>"
      ],
      "text/plain": [
       "XGBClassifier(base_score=None, booster=None, callbacks=None,\n",
       "              colsample_bylevel=None, colsample_bynode=None,\n",
       "              colsample_bytree=None, early_stopping_rounds=None,\n",
       "              enable_categorical=False, eval_metric=None, feature_types=None,\n",
       "              gamma=None, gpu_id=None, grow_policy=None, importance_type=None,\n",
       "              interaction_constraints=None, learning_rate=None, max_bin=None,\n",
       "              max_cat_threshold=None, max_cat_to_onehot=None,\n",
       "              max_delta_step=None, max_depth=None, max_leaves=None,\n",
       "              min_child_weight=None, missing=nan, monotone_constraints=None,\n",
       "              n_estimators=100, n_jobs=None, num_parallel_tree=None,\n",
       "              predictor=None, random_state=None, ...)"
      ]
     },
     "execution_count": 33,
     "metadata": {},
     "output_type": "execute_result"
    }
   ],
   "source": [
    "# XGBoost\n",
    "# We will use XGBoost to classify the events.\n",
    "# The input of XGBoost will be a matrix with two channels (side 1 and side 2) with the energy deposited in each sparse coordinate.\n",
    "# The output of XGBoost will be a vector with two elements (one for each class).\n",
    "# We will use the XGBClassifier class from the xgboost package.\n",
    "# We will use the default parameters of the XGBClassifier class.\n",
    "# We will use the fit method of the XGBClassifier class to train the model.\n",
    "# We will use the predict method of the XGBClassifier class to predict the classes of the test data.\n",
    "# We will use the predict_proba method of the XGBClassifier class to predict the probabilities of the classes of the test data.\n",
    "# We will use the accuracy_score function from the sklearn.metrics package to calculate the accuracy of the model.\n",
    "# We will use the confusion_matrix function from the sklearn.metrics package to calculate the confusion matrix of the model.\n",
    "# We will use the roc_curve function from the sklearn.metrics package to calculate the ROC curve of the model.\n",
    "# We will use the roc_auc_score function from the sklearn.metrics package to calculate the AUC of the model.\n",
    "# We will use the plot function from matplotlib.pyplot to plot the ROC curve of the model.\n",
    "# We will use the title function from matplotlib.pyplot to add a title to the plot.\n",
    "# We will use the xlabel function from matplotlib.pyplot to add a label to the x-axis.\n",
    "# We will use the ylabel function from matplotlib.pyplot to add a label to the y-axis.\n",
    "# We will use the legend function from matplotlib.pyplot to add a legend to the plot.\n",
    "\n",
    "import xgboost as xgb\n",
    "import sklearn.metrics as metrics\n",
    "\n",
    "# Create the XGBoost classifier\n",
    "model = xgb.XGBClassifier()\n",
    "\n",
    "# Train the XGBoost classifier\n",
    "mo\n",
    "\n"
   ]
  },
  {
   "cell_type": "code",
   "execution_count": null,
   "metadata": {},
   "outputs": [],
   "source": []
  }
 ],
 "metadata": {
  "kernelspec": {
   "display_name": "babycal",
   "language": "python",
   "name": "python3"
  },
  "language_info": {
   "codemirror_mode": {
    "name": "ipython",
    "version": 3
   },
   "file_extension": ".py",
   "mimetype": "text/x-python",
   "name": "python",
   "nbconvert_exporter": "python",
   "pygments_lexer": "ipython3",
   "version": "3.11.3"
  },
  "orig_nbformat": 4
 },
 "nbformat": 4,
 "nbformat_minor": 2
}
